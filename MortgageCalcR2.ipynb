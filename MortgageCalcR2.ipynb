{
  "nbformat": 4,
  "nbformat_minor": 0,
  "metadata": {
    "kernelspec": {
      "display_name": "Python 3",
      "language": "python",
      "name": "python3"
    },
    "language_info": {
      "codemirror_mode": {
        "name": "ipython",
        "version": 3
      },
      "file_extension": ".py",
      "mimetype": "text/x-python",
      "name": "python",
      "nbconvert_exporter": "python",
      "pygments_lexer": "ipython3",
      "version": "3.8.5"
    },
    "colab": {
      "name": "MortgageCalc.ipynb",
      "provenance": []
    }
  },
  "cells": [
    {
      "cell_type": "markdown",
      "metadata": {
        "heading_collapsed": "true",
        "id": "Vjs2NFKrkSfc"
      },
      "source": [
        "# Setup"
      ]
    },
    {
      "cell_type": "code",
      "metadata": {
        "id": "29D7FZm5keqy",
        "outputId": "3482a2bc-39a1-4f12-8f58-3367b2af6e2b",
        "colab": {
          "base_uri": "https://localhost:8080/"
        }
      },
      "source": [
        "!pip install numpy_financial"
      ],
      "execution_count": 2,
      "outputs": [
        {
          "output_type": "stream",
          "text": [
            "Collecting numpy_financial\n",
            "  Downloading numpy_financial-1.0.0-py3-none-any.whl (14 kB)\n",
            "Requirement already satisfied: numpy>=1.15 in /usr/local/lib/python3.7/dist-packages (from numpy_financial) (1.19.5)\n",
            "Installing collected packages: numpy-financial\n",
            "Successfully installed numpy-financial-1.0.0\n"
          ],
          "name": "stdout"
        }
      ]
    },
    {
      "cell_type": "code",
      "metadata": {
        "id": "Ruwp0MIukSfd",
        "outputId": "db065918-a8c4-47b2-a1a4-9e6d62e0ef06",
        "colab": {
          "base_uri": "https://localhost:8080/"
        }
      },
      "source": [
        "import pandas as pd\n",
        "import matplotlib.pyplot as plt\n",
        "import numpy as np\n",
        "import sys\n",
        "import os\n",
        "from os import listdir, fspath\n",
        "from os.path import isfile, join\n",
        "import numpy_financial as npf\n",
        "from datetime import date\n",
        "from collections import OrderedDict\n",
        "from dateutil.relativedelta import *\n",
        "\n",
        "print (f\"Python version: {sys.version}\")\n",
        "print(f\"Pandas Version: {pd.__version__}\")\n",
        "print(f\"Numpy version: {np.__version__}\")\n",
        "print(f\"Numpy Financial Version {npf.__version__}\")"
      ],
      "execution_count": 3,
      "outputs": [
        {
          "output_type": "stream",
          "text": [
            "Python version: 3.7.11 (default, Jul  3 2021, 18:01:19) \n",
            "[GCC 7.5.0]\n",
            "Pandas Version: 1.1.5\n",
            "Numpy version: 1.19.5\n",
            "Numpy Financial Version 1.0.0\n"
          ],
          "name": "stdout"
        }
      ]
    },
    {
      "cell_type": "markdown",
      "metadata": {
        "heading_collapsed": "true",
        "id": "Mmz681ZTkSfe"
      },
      "source": [
        "# Input Data"
      ]
    },
    {
      "cell_type": "code",
      "metadata": {
        "id": "cGMt_gTNkSfe"
      },
      "source": [
        "def calc_r(postedrate):\n",
        "    \"\"\"Calculates the effective annual rate for a Canadian Posted Rate based on Canada's legal Semi Annual Compounding\n",
        "    and 12 monthly payments\n",
        "    \"\"\"\n",
        "    semiannualrate = postedrate/2\n",
        "    CanAnnualRate=((1+semiannualrate)**2-1)\n",
        "    reff_monthly=(1+CanAnnualRate)**(1/12)-1  # Only deal in monthly calcs for this workbook\n",
        "    r = reff_monthly*12 # back calculate an effective yearly rate based on the semi annual compounding\n",
        "    return r"
      ],
      "execution_count": 4,
      "outputs": []
    },
    {
      "cell_type": "code",
      "metadata": {
        "id": "haIgIed7kSfe"
      },
      "source": [
        "P = 100000 # principal\n",
        "postedrate = 0.05 # annual interest rate - as quoted\n",
        "r = calc_r(postedrate)\n",
        "t = 25 # amortization period, years\n",
        "n = 12 # number of payments per year - DO NOT CHANGE\n",
        "startdate = (date(2021,1,1))\n",
        "Addl_Principal = 0 # Additional Principal per period"
      ],
      "execution_count": 8,
      "outputs": []
    },
    {
      "cell_type": "markdown",
      "metadata": {
        "id": "erXlkJNWkSfe"
      },
      "source": [
        "#### Change Rate for Canada - Semi Annual Compounding\n",
        "From https://vindeep.com/Corporate/InterestRateConversion.aspx and http://www.yorku.ca/amarshal/mortgage.htm   \n",
        "(In second reference, note error in 2nd line of page, where it should be $rM = (1.0609)^1/12-1)$    \n",
        "\n",
        "Note dox for numpy financial:  \n",
        "https://numpy.org/numpy-financial/latest/index.html"
      ]
    },
    {
      "cell_type": "markdown",
      "metadata": {
        "heading_collapsed": "true",
        "id": "w3UIYCk2kSfe"
      },
      "source": [
        "# Basic Calculations"
      ]
    },
    {
      "cell_type": "code",
      "metadata": {
        "id": "0pwfNEnPkSfl"
      },
      "source": [
        "r_n = r/n  # monthly interest rate\n",
        "totpymts = n*t # total number of payments"
      ],
      "execution_count": 9,
      "outputs": []
    },
    {
      "cell_type": "code",
      "metadata": {
        "id": "rSOu-c4TkSfl",
        "outputId": "d7048143-99dc-46cf-d1ef-881eabe2c94e",
        "colab": {
          "base_uri": "https://localhost:8080/"
        }
      },
      "source": [
        "pymt = npf.pmt(r_n,totpymts,P)  # Calculate Monthly Payment\n",
        "per = 1 # Payment period to calculate the interest amount\n",
        "ipmt = npf.ipmt(r_n,per,totpymts,P)\n",
        "ppmt = npf.ppmt(r_n,per,totpymts,P)\n",
        "print(f\"Principal of ${P}, {n} payments/year, {postedrate*100}% interest as posted, {t} years amortization, payments are ${-pymt:.2f} per period.\")\n",
        "print(f\"Effective Interest Rate in Canada: {postedrate*100}% interest as posted = {r*100:.4f}% effective interest rate\")\n",
        "print(f\"For period {per}, the interest payment is ${-ipmt:.2f} and the principal payment is ${-ppmt:.2f}, not counting for additional payments per period of ${Addl_Principal:.2f}\")"
      ],
      "execution_count": 16,
      "outputs": [
        {
          "output_type": "stream",
          "text": [
            "Principal of $100000, 12 payments/year, 5.0% interest as posted, 25 years amortization, payments are $581.60 per period.\n",
            "Effective Interest Rate in Canada: 5.0% interest as posted = 4.9487% effective interest rate\n",
            "For period 1, the interest payment is $412.39 and the principal payment is $169.21, not counting for additional payments per period of $0.00\n"
          ],
          "name": "stdout"
        }
      ]
    },
    {
      "cell_type": "markdown",
      "metadata": {
        "id": "ODGJ6Y6dkSfm"
      },
      "source": [
        "# Build Amortization Table\n",
        "From https://pbpython.com/amortization-model-revised.html"
      ]
    },
    {
      "cell_type": "markdown",
      "metadata": {
        "id": "22hRdO5-kSfm"
      },
      "source": [
        "### Create generator"
      ]
    },
    {
      "cell_type": "code",
      "metadata": {
        "id": "hH0XVMJlkSfm"
      },
      "source": [
        "def amortize(principal, interest_rate, years, pmt, addl_principal=0, annual_payments=12, start_date=date.today()):\n",
        "    \"\"\"Generator to calculate the Amortization table\n",
        "    This can be used to generate the dataframe\n",
        "    \n",
        "    Inputs are:\n",
        "    principal = Principal amount\n",
        "    interest_rate = posted annual interest rate\n",
        "    years = years of amortization, \n",
        "    pmt = payment amount per period\n",
        "    addl_principal = Additional Principal paid per period\n",
        "    annual_payments = annual number of regular payments\n",
        "    start_date = \n",
        "    start date\n",
        "    \n",
        "    Output is Ordered Dictionary of results\n",
        "    \"\"\"\n",
        "        \n",
        "    # initialize the variables to keep track of the periods and running balances\n",
        "    p = 1\n",
        "    beg_balance = principal\n",
        "    end_balance = principal\n",
        "\n",
        "    while end_balance > 0:\n",
        "\n",
        "        # Recalculate the interest based on the current balance\n",
        "        interest = round(((interest_rate/annual_payments) * beg_balance), 2)\n",
        "\n",
        "        # Determine payment based on whether or not this period will pay off the loan\n",
        "        pmt = min(pmt, beg_balance + interest)\n",
        "        principal = pmt - interest\n",
        "\n",
        "        # Ensure additional payment gets adjusted if the loan is being paid off\n",
        "        addl_principal = min(addl_principal, beg_balance - principal)\n",
        "        end_balance = beg_balance - (principal + addl_principal)\n",
        "\n",
        "        yield OrderedDict([('Month',start_date),\n",
        "                           ('Period', p),\n",
        "                           ('BeginBal', beg_balance),\n",
        "                           ('Payment', pmt),\n",
        "                           ('Principal', principal),\n",
        "                           ('Interest', interest),\n",
        "                           ('AddtnlPayment', addl_principal),\n",
        "                           ('EndBal', end_balance)])\n",
        "\n",
        "        # Increment the counter, balance and date\n",
        "        p += 1\n",
        "        start_date += relativedelta(months=1)\n",
        "        beg_balance = end_balance"
      ],
      "execution_count": 11,
      "outputs": []
    },
    {
      "cell_type": "markdown",
      "metadata": {
        "id": "HLAWrr4ykSfn"
      },
      "source": [
        "### Create Amortization Table"
      ]
    },
    {
      "cell_type": "code",
      "metadata": {
        "id": "iAskygNXkSfn"
      },
      "source": [
        "def AmortTable(principal, interest_rate, years,\n",
        "                       addl_principal=0, annual_payments=12, start_date=date.today()):\n",
        "    \"\"\"\n",
        "    Calculate the amortization schedule given the loan details as well as summary stats for the loan\n",
        "\n",
        "    :param principal: Amount borrowed\n",
        "    :param interest_rate: The annual interest rate for this loan\n",
        "    :param years: Number of years for the loan\n",
        "    \n",
        "    :param annual_payments (optional): Number of payments in a year. DEfault 12.\n",
        "    :param addl_principal (optional): Additional payments to be made each period. Default 0.\n",
        "    :param start_date (optional): Start date. Default first of next month if none provided\n",
        "\n",
        "    :return: \n",
        "        schedule: Amortization schedule as a pandas dataframe\n",
        "        summary: Pandas dataframe that summarizes the payoff information\n",
        "    \"\"\"\n",
        "    \n",
        "    # Payment stays constant based on the original terms of the loan\n",
        "    payment = -round(npf.pmt(interest_rate/annual_payments, years*annual_payments, principal), 2)\n",
        "    \n",
        "    # Generate the schedule and order the resulting columns for convenience\n",
        "    schedule = pd.DataFrame(amortize(principal, interest_rate, years, payment,\n",
        "                                     addl_principal, annual_payments, start_date))\n",
        "    schedule = schedule[[\"Period\", \"Month\", \"BeginBal\", \"Payment\", \"Principal\", \n",
        "                          \"Interest\", \"AddtnlPayment\", \"EndBal\"]]\n",
        "    \n",
        "    # Convert to a datetime object to make subsequent calcs easier\n",
        "    schedule[\"Month\"] = pd.to_datetime(schedule[\"Month\"])\n",
        "    \n",
        "    #Create a summary statistics table\n",
        "    payoff_date = schedule[\"Month\"].iloc[-1]\n",
        "    posted_rt = 2*((1+interest_rate/12)**6-1)\n",
        "    stats = pd.Series([payoff_date, schedule[\"Period\"].count(), round(interest_rate*100,2),\n",
        "                       round(posted_rt*100,2),years, principal, payment, addl_principal,\n",
        "                       schedule[\"Interest\"].sum()],\n",
        "                       index=[\"Payoff Date\", \"Num Payments\", \"Effective Annual Interest Rate, %\", \n",
        "                              \"Posted Annual Rate, %\",\"Amortization Period, Years\", \"Principal\",\n",
        "                             \"Payment\", \"Additional Payment\", \"Total Interest\"])\n",
        "    \n",
        "    return schedule, stats"
      ],
      "execution_count": 12,
      "outputs": []
    },
    {
      "cell_type": "markdown",
      "metadata": {
        "heading_collapsed": "true",
        "id": "3BCR8xQMkSfo"
      },
      "source": [
        "### Get Results"
      ]
    },
    {
      "cell_type": "code",
      "metadata": {
        "id": "39T1DjT2kSfq",
        "outputId": "36fea063-4f11-404a-e817-e17e169b949b",
        "colab": {
          "base_uri": "https://localhost:8080/",
          "height": 204
        }
      },
      "source": [
        "sch,stats = AmortTable(principal=P,interest_rate=r,years=t,addl_principal=Addl_Principal,annual_payments=n,start_date=startdate)\n",
        "\n",
        "sch.head()\n",
        "#schedule.set_index('Period',inplace=True)"
      ],
      "execution_count": 13,
      "outputs": [
        {
          "output_type": "execute_result",
          "data": {
            "text/html": [
              "<div>\n",
              "<style scoped>\n",
              "    .dataframe tbody tr th:only-of-type {\n",
              "        vertical-align: middle;\n",
              "    }\n",
              "\n",
              "    .dataframe tbody tr th {\n",
              "        vertical-align: top;\n",
              "    }\n",
              "\n",
              "    .dataframe thead th {\n",
              "        text-align: right;\n",
              "    }\n",
              "</style>\n",
              "<table border=\"1\" class=\"dataframe\">\n",
              "  <thead>\n",
              "    <tr style=\"text-align: right;\">\n",
              "      <th></th>\n",
              "      <th>Period</th>\n",
              "      <th>Month</th>\n",
              "      <th>BeginBal</th>\n",
              "      <th>Payment</th>\n",
              "      <th>Principal</th>\n",
              "      <th>Interest</th>\n",
              "      <th>AddtnlPayment</th>\n",
              "      <th>EndBal</th>\n",
              "    </tr>\n",
              "  </thead>\n",
              "  <tbody>\n",
              "    <tr>\n",
              "      <th>0</th>\n",
              "      <td>1</td>\n",
              "      <td>2021-01-01</td>\n",
              "      <td>100000.00</td>\n",
              "      <td>581.6</td>\n",
              "      <td>169.21</td>\n",
              "      <td>412.39</td>\n",
              "      <td>0</td>\n",
              "      <td>99830.79</td>\n",
              "    </tr>\n",
              "    <tr>\n",
              "      <th>1</th>\n",
              "      <td>2</td>\n",
              "      <td>2021-02-01</td>\n",
              "      <td>99830.79</td>\n",
              "      <td>581.6</td>\n",
              "      <td>169.91</td>\n",
              "      <td>411.69</td>\n",
              "      <td>0</td>\n",
              "      <td>99660.88</td>\n",
              "    </tr>\n",
              "    <tr>\n",
              "      <th>2</th>\n",
              "      <td>3</td>\n",
              "      <td>2021-03-01</td>\n",
              "      <td>99660.88</td>\n",
              "      <td>581.6</td>\n",
              "      <td>170.61</td>\n",
              "      <td>410.99</td>\n",
              "      <td>0</td>\n",
              "      <td>99490.27</td>\n",
              "    </tr>\n",
              "    <tr>\n",
              "      <th>3</th>\n",
              "      <td>4</td>\n",
              "      <td>2021-04-01</td>\n",
              "      <td>99490.27</td>\n",
              "      <td>581.6</td>\n",
              "      <td>171.31</td>\n",
              "      <td>410.29</td>\n",
              "      <td>0</td>\n",
              "      <td>99318.96</td>\n",
              "    </tr>\n",
              "    <tr>\n",
              "      <th>4</th>\n",
              "      <td>5</td>\n",
              "      <td>2021-05-01</td>\n",
              "      <td>99318.96</td>\n",
              "      <td>581.6</td>\n",
              "      <td>172.02</td>\n",
              "      <td>409.58</td>\n",
              "      <td>0</td>\n",
              "      <td>99146.94</td>\n",
              "    </tr>\n",
              "  </tbody>\n",
              "</table>\n",
              "</div>"
            ],
            "text/plain": [
              "   Period      Month   BeginBal  ...  Interest  AddtnlPayment    EndBal\n",
              "0       1 2021-01-01  100000.00  ...    412.39              0  99830.79\n",
              "1       2 2021-02-01   99830.79  ...    411.69              0  99660.88\n",
              "2       3 2021-03-01   99660.88  ...    410.99              0  99490.27\n",
              "3       4 2021-04-01   99490.27  ...    410.29              0  99318.96\n",
              "4       5 2021-05-01   99318.96  ...    409.58              0  99146.94\n",
              "\n",
              "[5 rows x 8 columns]"
            ]
          },
          "metadata": {
            "tags": []
          },
          "execution_count": 13
        }
      ]
    },
    {
      "cell_type": "code",
      "metadata": {
        "id": "s-aIysDnqnX_",
        "outputId": "114af521-6ff3-4540-b1f8-ede4d64b2594",
        "colab": {
          "base_uri": "https://localhost:8080/",
          "height": 204
        }
      },
      "source": [
        "sch.tail()"
      ],
      "execution_count": 17,
      "outputs": [
        {
          "output_type": "execute_result",
          "data": {
            "text/html": [
              "<div>\n",
              "<style scoped>\n",
              "    .dataframe tbody tr th:only-of-type {\n",
              "        vertical-align: middle;\n",
              "    }\n",
              "\n",
              "    .dataframe tbody tr th {\n",
              "        vertical-align: top;\n",
              "    }\n",
              "\n",
              "    .dataframe thead th {\n",
              "        text-align: right;\n",
              "    }\n",
              "</style>\n",
              "<table border=\"1\" class=\"dataframe\">\n",
              "  <thead>\n",
              "    <tr style=\"text-align: right;\">\n",
              "      <th></th>\n",
              "      <th>Period</th>\n",
              "      <th>Month</th>\n",
              "      <th>BeginBal</th>\n",
              "      <th>Payment</th>\n",
              "      <th>Principal</th>\n",
              "      <th>Interest</th>\n",
              "      <th>AddtnlPayment</th>\n",
              "      <th>EndBal</th>\n",
              "    </tr>\n",
              "  </thead>\n",
              "  <tbody>\n",
              "    <tr>\n",
              "      <th>296</th>\n",
              "      <td>297</td>\n",
              "      <td>2045-09-01</td>\n",
              "      <td>2305.52</td>\n",
              "      <td>581.60</td>\n",
              "      <td>572.09</td>\n",
              "      <td>9.51</td>\n",
              "      <td>0</td>\n",
              "      <td>1733.43</td>\n",
              "    </tr>\n",
              "    <tr>\n",
              "      <th>297</th>\n",
              "      <td>298</td>\n",
              "      <td>2045-10-01</td>\n",
              "      <td>1733.43</td>\n",
              "      <td>581.60</td>\n",
              "      <td>574.45</td>\n",
              "      <td>7.15</td>\n",
              "      <td>0</td>\n",
              "      <td>1158.98</td>\n",
              "    </tr>\n",
              "    <tr>\n",
              "      <th>298</th>\n",
              "      <td>299</td>\n",
              "      <td>2045-11-01</td>\n",
              "      <td>1158.98</td>\n",
              "      <td>581.60</td>\n",
              "      <td>576.82</td>\n",
              "      <td>4.78</td>\n",
              "      <td>0</td>\n",
              "      <td>582.16</td>\n",
              "    </tr>\n",
              "    <tr>\n",
              "      <th>299</th>\n",
              "      <td>300</td>\n",
              "      <td>2045-12-01</td>\n",
              "      <td>582.16</td>\n",
              "      <td>581.60</td>\n",
              "      <td>579.20</td>\n",
              "      <td>2.40</td>\n",
              "      <td>0</td>\n",
              "      <td>2.96</td>\n",
              "    </tr>\n",
              "    <tr>\n",
              "      <th>300</th>\n",
              "      <td>301</td>\n",
              "      <td>2046-01-01</td>\n",
              "      <td>2.96</td>\n",
              "      <td>2.97</td>\n",
              "      <td>2.96</td>\n",
              "      <td>0.01</td>\n",
              "      <td>0</td>\n",
              "      <td>0.00</td>\n",
              "    </tr>\n",
              "  </tbody>\n",
              "</table>\n",
              "</div>"
            ],
            "text/plain": [
              "     Period      Month  BeginBal  ...  Interest  AddtnlPayment   EndBal\n",
              "296     297 2045-09-01   2305.52  ...      9.51              0  1733.43\n",
              "297     298 2045-10-01   1733.43  ...      7.15              0  1158.98\n",
              "298     299 2045-11-01   1158.98  ...      4.78              0   582.16\n",
              "299     300 2045-12-01    582.16  ...      2.40              0     2.96\n",
              "300     301 2046-01-01      2.96  ...      0.01              0     0.00\n",
              "\n",
              "[5 rows x 8 columns]"
            ]
          },
          "metadata": {
            "tags": []
          },
          "execution_count": 17
        }
      ]
    },
    {
      "cell_type": "markdown",
      "metadata": {
        "id": "-1YQeYG1rSR4"
      },
      "source": [
        "The above schedule for 100,000 at 5% amortized over 25 years with $581.60 payments monthly matches the online calculator exactly (see the pdf). So the amortization schedule is being done correctly."
      ]
    },
    {
      "cell_type": "code",
      "metadata": {
        "id": "rbN22x0pkSfq",
        "outputId": "6b140515-bdca-498a-ec00-7b954a9b5c09",
        "colab": {
          "base_uri": "https://localhost:8080/"
        }
      },
      "source": [
        "stats"
      ],
      "execution_count": 14,
      "outputs": [
        {
          "output_type": "execute_result",
          "data": {
            "text/plain": [
              "Payoff Date                          2046-01-01 00:00:00\n",
              "Num Payments                                         301\n",
              "Effective Annual Interest Rate, %                   4.95\n",
              "Posted Annual Rate, %                                  5\n",
              "Amortization Period, Years                            25\n",
              "Principal                                         100000\n",
              "Payment                                            581.6\n",
              "Additional Payment                                     0\n",
              "Total Interest                                     74483\n",
              "dtype: object"
            ]
          },
          "metadata": {
            "tags": []
          },
          "execution_count": 14
        }
      ]
    },
    {
      "cell_type": "markdown",
      "metadata": {
        "id": "f334z-bQkSfr"
      },
      "source": [
        "# Analysis"
      ]
    },
    {
      "cell_type": "markdown",
      "metadata": {
        "id": "REwRqs_fkSfs"
      },
      "source": [
        "## 1. Reproduce Original Table to Check"
      ]
    },
    {
      "cell_type": "code",
      "metadata": {
        "id": "fGmKi05DkSfs"
      },
      "source": [
        "P1 = 469300 # principal\n",
        "postedrate1 = 0.0299 # annual interest rate - as quoted\n",
        "r1 = calc_r(postedrate1)\n",
        "t1 = 25 # amortization period, years\n",
        "n1 = 12 # number of payments per year - DO NOT CHANGE\n",
        "startdate1 = (date(2019,6,21))\n",
        "Addl_Principal1 = 0 # Additional Principal per period"
      ],
      "execution_count": null,
      "outputs": []
    },
    {
      "cell_type": "code",
      "metadata": {
        "id": "nlAcL80QkSfs"
      },
      "source": [
        "sch1,stats1 = AmortTable(principal=P1,interest_rate=r1,years=t1,addl_principal=Addl_Principal1,annual_payments=n1,start_date=startdate1)"
      ],
      "execution_count": null,
      "outputs": []
    },
    {
      "cell_type": "code",
      "metadata": {
        "id": "4txq2WsUkSfs",
        "outputId": "e1e1fe49-d5d5-4203-e5d6-d3ee45d87b3f"
      },
      "source": [
        "sch1.head()"
      ],
      "execution_count": null,
      "outputs": [
        {
          "output_type": "execute_result",
          "data": {
            "text/html": [
              "<div>\n",
              "<style scoped>\n",
              "    .dataframe tbody tr th:only-of-type {\n",
              "        vertical-align: middle;\n",
              "    }\n",
              "\n",
              "    .dataframe tbody tr th {\n",
              "        vertical-align: top;\n",
              "    }\n",
              "\n",
              "    .dataframe thead th {\n",
              "        text-align: right;\n",
              "    }\n",
              "</style>\n",
              "<table border=\"1\" class=\"dataframe\">\n",
              "  <thead>\n",
              "    <tr style=\"text-align: right;\">\n",
              "      <th></th>\n",
              "      <th>Period</th>\n",
              "      <th>Month</th>\n",
              "      <th>BeginBal</th>\n",
              "      <th>Payment</th>\n",
              "      <th>Principal</th>\n",
              "      <th>Interest</th>\n",
              "      <th>AddtnlPayment</th>\n",
              "      <th>EndBal</th>\n",
              "    </tr>\n",
              "  </thead>\n",
              "  <tbody>\n",
              "    <tr>\n",
              "      <th>0</th>\n",
              "      <td>1</td>\n",
              "      <td>2019-06-21</td>\n",
              "      <td>469300.00</td>\n",
              "      <td>2218.53</td>\n",
              "      <td>1056.41</td>\n",
              "      <td>1162.12</td>\n",
              "      <td>0</td>\n",
              "      <td>468243.59</td>\n",
              "    </tr>\n",
              "    <tr>\n",
              "      <th>1</th>\n",
              "      <td>2</td>\n",
              "      <td>2019-07-21</td>\n",
              "      <td>468243.59</td>\n",
              "      <td>2218.53</td>\n",
              "      <td>1059.02</td>\n",
              "      <td>1159.51</td>\n",
              "      <td>0</td>\n",
              "      <td>467184.57</td>\n",
              "    </tr>\n",
              "    <tr>\n",
              "      <th>2</th>\n",
              "      <td>3</td>\n",
              "      <td>2019-08-21</td>\n",
              "      <td>467184.57</td>\n",
              "      <td>2218.53</td>\n",
              "      <td>1061.65</td>\n",
              "      <td>1156.88</td>\n",
              "      <td>0</td>\n",
              "      <td>466122.92</td>\n",
              "    </tr>\n",
              "    <tr>\n",
              "      <th>3</th>\n",
              "      <td>4</td>\n",
              "      <td>2019-09-21</td>\n",
              "      <td>466122.92</td>\n",
              "      <td>2218.53</td>\n",
              "      <td>1064.28</td>\n",
              "      <td>1154.25</td>\n",
              "      <td>0</td>\n",
              "      <td>465058.64</td>\n",
              "    </tr>\n",
              "    <tr>\n",
              "      <th>4</th>\n",
              "      <td>5</td>\n",
              "      <td>2019-10-21</td>\n",
              "      <td>465058.64</td>\n",
              "      <td>2218.53</td>\n",
              "      <td>1066.91</td>\n",
              "      <td>1151.62</td>\n",
              "      <td>0</td>\n",
              "      <td>463991.73</td>\n",
              "    </tr>\n",
              "  </tbody>\n",
              "</table>\n",
              "</div>"
            ],
            "text/plain": [
              "   Period      Month   BeginBal  Payment  Principal  Interest  AddtnlPayment  \\\n",
              "0       1 2019-06-21  469300.00  2218.53    1056.41   1162.12              0   \n",
              "1       2 2019-07-21  468243.59  2218.53    1059.02   1159.51              0   \n",
              "2       3 2019-08-21  467184.57  2218.53    1061.65   1156.88              0   \n",
              "3       4 2019-09-21  466122.92  2218.53    1064.28   1154.25              0   \n",
              "4       5 2019-10-21  465058.64  2218.53    1066.91   1151.62              0   \n",
              "\n",
              "      EndBal  \n",
              "0  468243.59  \n",
              "1  467184.57  \n",
              "2  466122.92  \n",
              "3  465058.64  \n",
              "4  463991.73  "
            ]
          },
          "metadata": {
            "tags": []
          },
          "execution_count": 23
        }
      ]
    },
    {
      "cell_type": "code",
      "metadata": {
        "id": "SB7Az3vSkSft",
        "outputId": "0b55c106-fb45-408f-ab9a-384cf8fbf712"
      },
      "source": [
        "sch1[33:36]"
      ],
      "execution_count": null,
      "outputs": [
        {
          "output_type": "execute_result",
          "data": {
            "text/html": [
              "<div>\n",
              "<style scoped>\n",
              "    .dataframe tbody tr th:only-of-type {\n",
              "        vertical-align: middle;\n",
              "    }\n",
              "\n",
              "    .dataframe tbody tr th {\n",
              "        vertical-align: top;\n",
              "    }\n",
              "\n",
              "    .dataframe thead th {\n",
              "        text-align: right;\n",
              "    }\n",
              "</style>\n",
              "<table border=\"1\" class=\"dataframe\">\n",
              "  <thead>\n",
              "    <tr style=\"text-align: right;\">\n",
              "      <th></th>\n",
              "      <th>Period</th>\n",
              "      <th>Month</th>\n",
              "      <th>BeginBal</th>\n",
              "      <th>Payment</th>\n",
              "      <th>Principal</th>\n",
              "      <th>Interest</th>\n",
              "      <th>AddtnlPayment</th>\n",
              "      <th>EndBal</th>\n",
              "    </tr>\n",
              "  </thead>\n",
              "  <tbody>\n",
              "    <tr>\n",
              "      <th>33</th>\n",
              "      <td>34</td>\n",
              "      <td>2022-03-21</td>\n",
              "      <td>433021.27</td>\n",
              "      <td>2218.53</td>\n",
              "      <td>1146.25</td>\n",
              "      <td>1072.28</td>\n",
              "      <td>0</td>\n",
              "      <td>431875.02</td>\n",
              "    </tr>\n",
              "    <tr>\n",
              "      <th>34</th>\n",
              "      <td>35</td>\n",
              "      <td>2022-04-21</td>\n",
              "      <td>431875.02</td>\n",
              "      <td>2218.53</td>\n",
              "      <td>1149.08</td>\n",
              "      <td>1069.45</td>\n",
              "      <td>0</td>\n",
              "      <td>430725.94</td>\n",
              "    </tr>\n",
              "    <tr>\n",
              "      <th>35</th>\n",
              "      <td>36</td>\n",
              "      <td>2022-05-21</td>\n",
              "      <td>430725.94</td>\n",
              "      <td>2218.53</td>\n",
              "      <td>1151.93</td>\n",
              "      <td>1066.60</td>\n",
              "      <td>0</td>\n",
              "      <td>429574.01</td>\n",
              "    </tr>\n",
              "  </tbody>\n",
              "</table>\n",
              "</div>"
            ],
            "text/plain": [
              "    Period      Month   BeginBal  Payment  Principal  Interest  AddtnlPayment  \\\n",
              "33      34 2022-03-21  433021.27  2218.53    1146.25   1072.28              0   \n",
              "34      35 2022-04-21  431875.02  2218.53    1149.08   1069.45              0   \n",
              "35      36 2022-05-21  430725.94  2218.53    1151.93   1066.60              0   \n",
              "\n",
              "       EndBal  \n",
              "33  431875.02  \n",
              "34  430725.94  \n",
              "35  429574.01  "
            ]
          },
          "metadata": {
            "tags": []
          },
          "execution_count": 24
        }
      ]
    },
    {
      "cell_type": "code",
      "metadata": {
        "id": "xQ0b8dA2kSft",
        "outputId": "7c72478e-5a9d-4417-c701-3621f09de0da"
      },
      "source": [
        "stats1"
      ],
      "execution_count": null,
      "outputs": [
        {
          "output_type": "execute_result",
          "data": {
            "text/plain": [
              "Payoff Date                          2044-06-21 00:00:00\n",
              "Num Payments                                         301\n",
              "Effective Annual Interest Rate, %                   2.97\n",
              "Posted Annual Rate, %                               2.99\n",
              "Amortization Period, Years                            25\n",
              "Principal                                         469300\n",
              "Payment                                          2218.53\n",
              "Additional Payment                                     0\n",
              "Total Interest                                    196261\n",
              "dtype: object"
            ]
          },
          "metadata": {
            "tags": []
          },
          "execution_count": 39
        }
      ]
    },
    {
      "cell_type": "markdown",
      "metadata": {
        "id": "gdoYXPllkSft"
      },
      "source": [
        "Within a few cents of the correct value at the end of the mortgage term per the spreadsheet (May 21 2022 - $429,573.65)"
      ]
    },
    {
      "cell_type": "code",
      "metadata": {
        "id": "e_0s37KckSft",
        "outputId": "38ab5a6d-4837-464f-8c26-6eb388bd37a0"
      },
      "source": [
        "sch1[19:20]"
      ],
      "execution_count": null,
      "outputs": [
        {
          "output_type": "execute_result",
          "data": {
            "text/html": [
              "<div>\n",
              "<style scoped>\n",
              "    .dataframe tbody tr th:only-of-type {\n",
              "        vertical-align: middle;\n",
              "    }\n",
              "\n",
              "    .dataframe tbody tr th {\n",
              "        vertical-align: top;\n",
              "    }\n",
              "\n",
              "    .dataframe thead th {\n",
              "        text-align: right;\n",
              "    }\n",
              "</style>\n",
              "<table border=\"1\" class=\"dataframe\">\n",
              "  <thead>\n",
              "    <tr style=\"text-align: right;\">\n",
              "      <th></th>\n",
              "      <th>Period</th>\n",
              "      <th>Month</th>\n",
              "      <th>BeginBal</th>\n",
              "      <th>Payment</th>\n",
              "      <th>Principal</th>\n",
              "      <th>Interest</th>\n",
              "      <th>AddtnlPayment</th>\n",
              "      <th>EndBal</th>\n",
              "    </tr>\n",
              "  </thead>\n",
              "  <tbody>\n",
              "    <tr>\n",
              "      <th>19</th>\n",
              "      <td>20</td>\n",
              "      <td>2021-01-21</td>\n",
              "      <td>448774.56</td>\n",
              "      <td>2218.53</td>\n",
              "      <td>1107.24</td>\n",
              "      <td>1111.29</td>\n",
              "      <td>0</td>\n",
              "      <td>447667.32</td>\n",
              "    </tr>\n",
              "  </tbody>\n",
              "</table>\n",
              "</div>"
            ],
            "text/plain": [
              "    Period      Month   BeginBal  Payment  Principal  Interest  AddtnlPayment  \\\n",
              "19      20 2021-01-21  448774.56  2218.53    1107.24   1111.29              0   \n",
              "\n",
              "       EndBal  \n",
              "19  447667.32  "
            ]
          },
          "metadata": {
            "tags": []
          },
          "execution_count": 26
        }
      ]
    },
    {
      "cell_type": "code",
      "metadata": {
        "id": "CQf6vylFkSfu",
        "outputId": "9bc9feea-6a21-46e8-bf5b-8068c7886240"
      },
      "source": [
        "NewPrincipal = sch1.iloc[19]['EndBal']\n",
        "print(NewPrincipal)"
      ],
      "execution_count": null,
      "outputs": [
        {
          "output_type": "stream",
          "text": [
            "447667.32\n"
          ],
          "name": "stdout"
        }
      ]
    },
    {
      "cell_type": "markdown",
      "metadata": {
        "id": "_c-s3Ba2kSfu"
      },
      "source": [
        "## 2. Refinance at the New Rate"
      ]
    },
    {
      "cell_type": "code",
      "metadata": {
        "id": "51j1NVXikSfu"
      },
      "source": [
        "P2 = NewPrincipal # principal\n",
        "postedrate2 = 0.0174 # annual interest rate - as quoted\n",
        "r2 = calc_r(postedrate2)\n",
        "t2 = 25 # amortization period, years\n",
        "n2 = 12 # number of payments per year - DO NOT CHANGE\n",
        "startdate2 = (date(2021,2,21))\n",
        "Addl_Principal2 = 0 # Additional Principal per period"
      ],
      "execution_count": null,
      "outputs": []
    },
    {
      "cell_type": "code",
      "metadata": {
        "id": "NUokSDPmkSfu"
      },
      "source": [
        "sch2,stats2 = AmortTable(principal=P2,interest_rate=r2,years=t2,addl_principal=Addl_Principal2,annual_payments=n2,start_date=startdate2)"
      ],
      "execution_count": null,
      "outputs": []
    },
    {
      "cell_type": "code",
      "metadata": {
        "id": "hugquFRqkSfv",
        "outputId": "3cc6a8dc-3c64-45e5-fb8b-576536ec34f1"
      },
      "source": [
        "sch2[11:12]"
      ],
      "execution_count": null,
      "outputs": [
        {
          "output_type": "execute_result",
          "data": {
            "text/html": [
              "<div>\n",
              "<style scoped>\n",
              "    .dataframe tbody tr th:only-of-type {\n",
              "        vertical-align: middle;\n",
              "    }\n",
              "\n",
              "    .dataframe tbody tr th {\n",
              "        vertical-align: top;\n",
              "    }\n",
              "\n",
              "    .dataframe thead th {\n",
              "        text-align: right;\n",
              "    }\n",
              "</style>\n",
              "<table border=\"1\" class=\"dataframe\">\n",
              "  <thead>\n",
              "    <tr style=\"text-align: right;\">\n",
              "      <th></th>\n",
              "      <th>Period</th>\n",
              "      <th>Month</th>\n",
              "      <th>BeginBal</th>\n",
              "      <th>Payment</th>\n",
              "      <th>Principal</th>\n",
              "      <th>Interest</th>\n",
              "      <th>AddtnlPayment</th>\n",
              "      <th>EndBal</th>\n",
              "    </tr>\n",
              "  </thead>\n",
              "  <tbody>\n",
              "    <tr>\n",
              "      <th>11</th>\n",
              "      <td>12</td>\n",
              "      <td>2022-01-21</td>\n",
              "      <td>434447.1</td>\n",
              "      <td>1839.96</td>\n",
              "      <td>1212.28</td>\n",
              "      <td>627.68</td>\n",
              "      <td>0</td>\n",
              "      <td>433234.82</td>\n",
              "    </tr>\n",
              "  </tbody>\n",
              "</table>\n",
              "</div>"
            ],
            "text/plain": [
              "    Period      Month  BeginBal  Payment  Principal  Interest  AddtnlPayment  \\\n",
              "11      12 2022-01-21  434447.1  1839.96    1212.28    627.68              0   \n",
              "\n",
              "       EndBal  \n",
              "11  433234.82  "
            ]
          },
          "metadata": {
            "tags": []
          },
          "execution_count": 33
        }
      ]
    },
    {
      "cell_type": "code",
      "metadata": {
        "id": "uBSrr1ALkSfv",
        "outputId": "b0f00f1f-1b0c-46a2-b7b8-93c38b7cad85"
      },
      "source": [
        "stats2"
      ],
      "execution_count": null,
      "outputs": [
        {
          "output_type": "execute_result",
          "data": {
            "text/plain": [
              "Payoff Date                          2046-02-21 00:00:00\n",
              "Num Payments                                         301\n",
              "Effective Annual Interest Rate, %                   1.73\n",
              "Posted Annual Rate, %                               1.74\n",
              "Amortization Period, Years                            25\n",
              "Principal                                         447667\n",
              "Payment                                          1839.96\n",
              "Additional Payment                                     0\n",
              "Total Interest                                    104321\n",
              "dtype: object"
            ]
          },
          "metadata": {
            "tags": []
          },
          "execution_count": 31
        }
      ]
    },
    {
      "cell_type": "markdown",
      "metadata": {
        "id": "lEqo3-IIkSfw"
      },
      "source": [
        "### 2A. Yearly payments of 15% of principal spread over each month of year"
      ]
    },
    {
      "cell_type": "code",
      "metadata": {
        "id": "RBsJmXQ3kSfw",
        "outputId": "f648ea37-1656-4489-b955-67561743f817"
      },
      "source": [
        "Addl_Principal2 = 0.15*P2/12 # additional amount per month\n",
        "print(Addl_Principal2)"
      ],
      "execution_count": null,
      "outputs": [
        {
          "output_type": "stream",
          "text": [
            "5595.8414999999995\n"
          ],
          "name": "stdout"
        }
      ]
    },
    {
      "cell_type": "code",
      "metadata": {
        "id": "FnhEQTackSfw"
      },
      "source": [
        "sch2a,stats2a = AmortTable(principal=P2,interest_rate=r2,years=t2,addl_principal=Addl_Principal2,annual_payments=n2,start_date=startdate2)"
      ],
      "execution_count": null,
      "outputs": []
    },
    {
      "cell_type": "code",
      "metadata": {
        "id": "cnaV7gbHkSfw",
        "outputId": "5f88d443-ad9e-4aec-bdfb-1b8697022a17"
      },
      "source": [
        "sch2a.head()"
      ],
      "execution_count": null,
      "outputs": [
        {
          "output_type": "execute_result",
          "data": {
            "text/html": [
              "<div>\n",
              "<style scoped>\n",
              "    .dataframe tbody tr th:only-of-type {\n",
              "        vertical-align: middle;\n",
              "    }\n",
              "\n",
              "    .dataframe tbody tr th {\n",
              "        vertical-align: top;\n",
              "    }\n",
              "\n",
              "    .dataframe thead th {\n",
              "        text-align: right;\n",
              "    }\n",
              "</style>\n",
              "<table border=\"1\" class=\"dataframe\">\n",
              "  <thead>\n",
              "    <tr style=\"text-align: right;\">\n",
              "      <th></th>\n",
              "      <th>Period</th>\n",
              "      <th>Month</th>\n",
              "      <th>BeginBal</th>\n",
              "      <th>Payment</th>\n",
              "      <th>Principal</th>\n",
              "      <th>Interest</th>\n",
              "      <th>AddtnlPayment</th>\n",
              "      <th>EndBal</th>\n",
              "    </tr>\n",
              "  </thead>\n",
              "  <tbody>\n",
              "    <tr>\n",
              "      <th>0</th>\n",
              "      <td>1</td>\n",
              "      <td>2021-02-21</td>\n",
              "      <td>447667.3200</td>\n",
              "      <td>1839.96</td>\n",
              "      <td>1193.18</td>\n",
              "      <td>646.78</td>\n",
              "      <td>5595.8415</td>\n",
              "      <td>440878.2985</td>\n",
              "    </tr>\n",
              "    <tr>\n",
              "      <th>1</th>\n",
              "      <td>2</td>\n",
              "      <td>2021-03-21</td>\n",
              "      <td>440878.2985</td>\n",
              "      <td>1839.96</td>\n",
              "      <td>1202.99</td>\n",
              "      <td>636.97</td>\n",
              "      <td>5595.8415</td>\n",
              "      <td>434079.4670</td>\n",
              "    </tr>\n",
              "    <tr>\n",
              "      <th>2</th>\n",
              "      <td>3</td>\n",
              "      <td>2021-04-21</td>\n",
              "      <td>434079.4670</td>\n",
              "      <td>1839.96</td>\n",
              "      <td>1212.81</td>\n",
              "      <td>627.15</td>\n",
              "      <td>5595.8415</td>\n",
              "      <td>427270.8155</td>\n",
              "    </tr>\n",
              "    <tr>\n",
              "      <th>3</th>\n",
              "      <td>4</td>\n",
              "      <td>2021-05-21</td>\n",
              "      <td>427270.8155</td>\n",
              "      <td>1839.96</td>\n",
              "      <td>1222.65</td>\n",
              "      <td>617.31</td>\n",
              "      <td>5595.8415</td>\n",
              "      <td>420452.3240</td>\n",
              "    </tr>\n",
              "    <tr>\n",
              "      <th>4</th>\n",
              "      <td>5</td>\n",
              "      <td>2021-06-21</td>\n",
              "      <td>420452.3240</td>\n",
              "      <td>1839.96</td>\n",
              "      <td>1232.50</td>\n",
              "      <td>607.46</td>\n",
              "      <td>5595.8415</td>\n",
              "      <td>413623.9825</td>\n",
              "    </tr>\n",
              "  </tbody>\n",
              "</table>\n",
              "</div>"
            ],
            "text/plain": [
              "   Period      Month     BeginBal  Payment  Principal  Interest  \\\n",
              "0       1 2021-02-21  447667.3200  1839.96    1193.18    646.78   \n",
              "1       2 2021-03-21  440878.2985  1839.96    1202.99    636.97   \n",
              "2       3 2021-04-21  434079.4670  1839.96    1212.81    627.15   \n",
              "3       4 2021-05-21  427270.8155  1839.96    1222.65    617.31   \n",
              "4       5 2021-06-21  420452.3240  1839.96    1232.50    607.46   \n",
              "\n",
              "   AddtnlPayment       EndBal  \n",
              "0      5595.8415  440878.2985  \n",
              "1      5595.8415  434079.4670  \n",
              "2      5595.8415  427270.8155  \n",
              "3      5595.8415  420452.3240  \n",
              "4      5595.8415  413623.9825  "
            ]
          },
          "metadata": {
            "tags": []
          },
          "execution_count": 46
        }
      ]
    },
    {
      "cell_type": "code",
      "metadata": {
        "id": "wEmScx4wkSfx",
        "outputId": "984ff614-55c3-4731-d605-2b0fbb0d9503"
      },
      "source": [
        "stats2a"
      ],
      "execution_count": null,
      "outputs": [
        {
          "output_type": "execute_result",
          "data": {
            "text/plain": [
              "Payoff Date                          2026-05-21 00:00:00\n",
              "Num Payments                                          64\n",
              "Effective Annual Interest Rate, %                   1.73\n",
              "Posted Annual Rate, %                               1.74\n",
              "Amortization Period, Years                            25\n",
              "Principal                                         447667\n",
              "Payment                                          1839.96\n",
              "Additional Payment                               5595.84\n",
              "Total Interest                                     21016\n",
              "dtype: object"
            ]
          },
          "metadata": {
            "tags": []
          },
          "execution_count": 47
        }
      ]
    }
  ]
}