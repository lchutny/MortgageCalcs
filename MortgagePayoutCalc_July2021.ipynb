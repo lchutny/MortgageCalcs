{
  "nbformat": 4,
  "nbformat_minor": 0,
  "metadata": {
    "kernelspec": {
      "display_name": "Python 3",
      "language": "python",
      "name": "python3"
    },
    "language_info": {
      "codemirror_mode": {
        "name": "ipython",
        "version": 3
      },
      "file_extension": ".py",
      "mimetype": "text/x-python",
      "name": "python",
      "nbconvert_exporter": "python",
      "pygments_lexer": "ipython3",
      "version": "3.8.5"
    },
    "colab": {
      "name": "Copy of MortgageCalc.ipynb",
      "provenance": [],
      "include_colab_link": true
    }
  },
  "cells": [
    {
      "cell_type": "markdown",
      "metadata": {
        "id": "view-in-github",
        "colab_type": "text"
      },
      "source": [
        "<a href=\"https://colab.research.google.com/github/lchutny/MortgageCalcs/blob/main/MortgagePayoutCalc_July2021.ipynb\" target=\"_parent\"><img src=\"https://colab.research.google.com/assets/colab-badge.svg\" alt=\"Open In Colab\"/></a>"
      ]
    },
    {
      "cell_type": "markdown",
      "metadata": {
        "heading_collapsed": "true",
        "id": "Vjs2NFKrkSfc"
      },
      "source": [
        "# Setup"
      ]
    },
    {
      "cell_type": "code",
      "metadata": {
        "id": "29D7FZm5keqy",
        "colab": {
          "base_uri": "https://localhost:8080/"
        },
        "outputId": "573ddf14-1399-4ada-a511-ef72ab3e796b"
      },
      "source": [
        "!pip install numpy_financial"
      ],
      "execution_count": 1,
      "outputs": [
        {
          "output_type": "stream",
          "text": [
            "Collecting numpy_financial\n",
            "  Downloading numpy_financial-1.0.0-py3-none-any.whl (14 kB)\n",
            "Requirement already satisfied: numpy>=1.15 in /usr/local/lib/python3.7/dist-packages (from numpy_financial) (1.19.5)\n",
            "Installing collected packages: numpy-financial\n",
            "Successfully installed numpy-financial-1.0.0\n"
          ],
          "name": "stdout"
        }
      ]
    },
    {
      "cell_type": "code",
      "metadata": {
        "id": "Ruwp0MIukSfd",
        "colab": {
          "base_uri": "https://localhost:8080/"
        },
        "outputId": "4f99ad9b-95da-4982-8c58-eb160c13e3d8"
      },
      "source": [
        "import pandas as pd\n",
        "import matplotlib.pyplot as plt\n",
        "import numpy as np\n",
        "import math\n",
        "import sys\n",
        "import os\n",
        "from os import listdir, fspath\n",
        "from os.path import isfile, join\n",
        "import numpy_financial as npf\n",
        "from datetime import date\n",
        "from collections import OrderedDict\n",
        "from dateutil.relativedelta import *\n",
        "\n",
        "print (f\"Python version: {sys.version}\")\n",
        "print(f\"Pandas Version: {pd.__version__}\")\n",
        "print(f\"Numpy version: {np.__version__}\")\n",
        "print(f\"Numpy Financial Version {npf.__version__}\")"
      ],
      "execution_count": 2,
      "outputs": [
        {
          "output_type": "stream",
          "text": [
            "Python version: 3.7.11 (default, Jul  3 2021, 18:01:19) \n",
            "[GCC 7.5.0]\n",
            "Pandas Version: 1.1.5\n",
            "Numpy version: 1.19.5\n",
            "Numpy Financial Version 1.0.0\n"
          ],
          "name": "stdout"
        }
      ]
    },
    {
      "cell_type": "markdown",
      "metadata": {
        "heading_collapsed": "true",
        "id": "Mmz681ZTkSfe"
      },
      "source": [
        "# Input Data"
      ]
    },
    {
      "cell_type": "code",
      "metadata": {
        "id": "cGMt_gTNkSfe"
      },
      "source": [
        "def calc_r(postedrate, periodsperyear):\n",
        "    \"\"\"Calculates the effective annual rate for a Canadian Posted Rate based on Canada's legal Semi Annual Compounding\n",
        "    and an input number of payment periods per year\n",
        "    \"\"\"\n",
        "    semiannualrate = postedrate/2\n",
        "    EAR =((1+semiannualrate)**2-1)  # Effective Annual Rate, EAR\n",
        "    reff_perperiod=(1+EAR)**(1/periodsperyear)-1  # EAR per period\n",
        "    apr = reff_perperiod*periodsperyear # back calculate the annual percentage rate - a yearly rate based on the semi annual compounding\n",
        "    return apr,EAR"
      ],
      "execution_count": 3,
      "outputs": []
    },
    {
      "cell_type": "code",
      "metadata": {
        "id": "haIgIed7kSfe"
      },
      "source": [
        "P = 100000 # principal\n",
        "postedrate = 0.05 # annual interest rate - as quoted\n",
        "n = 12 # number of payments per year\n",
        "apr,EAR = calc_r(postedrate,n)\n",
        "t = 25 # amortization period, years\n",
        "startdate = (date(2021,1,1))\n",
        "Addl_Principal = 0 # Additional Principal per period"
      ],
      "execution_count": 4,
      "outputs": []
    },
    {
      "cell_type": "markdown",
      "metadata": {
        "id": "erXlkJNWkSfe"
      },
      "source": [
        "#### Change Rate for Canada - Semi Annual Compounding\n",
        "From https://vindeep.com/Corporate/InterestRateConversion.aspx and http://www.yorku.ca/amarshal/mortgage.htm   \n",
        "(In second reference, note error in 2nd line of page, where it should be $r_M = (1.0609)^{1/12}-1$    \n",
        "\n",
        "Note dox for numpy financial:  \n",
        "https://numpy.org/numpy-financial/latest/index.html"
      ]
    },
    {
      "cell_type": "markdown",
      "metadata": {
        "heading_collapsed": "true",
        "id": "w3UIYCk2kSfe"
      },
      "source": [
        "# Basic Calculations"
      ]
    },
    {
      "cell_type": "code",
      "metadata": {
        "id": "rSOu-c4TkSfl",
        "colab": {
          "base_uri": "https://localhost:8080/"
        },
        "outputId": "51eb715e-196f-4885-c4ea-446327c2c121"
      },
      "source": [
        "r_n = apr/n  # interest rate per period\n",
        "totpymts = n*t # total number of payments\n",
        "pymt = npf.pmt(r_n,totpymts,P)  # Calculate Payment per period\n",
        "per = 1 # Payment period to calculate the interest amount\n",
        "ipmt = npf.ipmt(r_n,per,totpymts,P)\n",
        "ppmt = npf.ppmt(r_n,per,totpymts,P)\n",
        "print(f\"Principal of ${P}, {n} payments/year, {postedrate*100}% interest as posted, {t} years amortization, payments are ${-pymt:.2f} per period.\")\n",
        "print(f\"APR in Canada: for a posted rate of {postedrate*100}%, APR = {apr*100:.4f}% and the EAR ={EAR*100:.4f}%\")\n",
        "print(f\"For period {per}, the interest payment is ${-ipmt:.2f} and the principal payment is ${-ppmt:.2f}, not counting for additional payments per period of ${Addl_Principal:.2f}\")"
      ],
      "execution_count": 5,
      "outputs": [
        {
          "output_type": "stream",
          "text": [
            "Principal of $100000, 12 payments/year, 5.0% interest as posted, 25 years amortization, payments are $581.60 per period.\n",
            "APR in Canada: for a posted rate of 5.0%, APR = 4.9487% and the EAR =5.0625%\n",
            "For period 1, the interest payment is $412.39 and the principal payment is $169.21, not counting for additional payments per period of $0.00\n"
          ],
          "name": "stdout"
        }
      ]
    },
    {
      "cell_type": "markdown",
      "metadata": {
        "id": "ODGJ6Y6dkSfm"
      },
      "source": [
        "# Build Amortization Table\n",
        "From https://pbpython.com/amortization-model-revised.html"
      ]
    },
    {
      "cell_type": "markdown",
      "metadata": {
        "id": "22hRdO5-kSfm"
      },
      "source": [
        "### Create generator"
      ]
    },
    {
      "cell_type": "code",
      "metadata": {
        "id": "hH0XVMJlkSfm"
      },
      "source": [
        "def amortize(principal, interest_rate, years, pmt, addl_principal=0, annual_payments=12, start_date=date.today()):\n",
        "    \"\"\"Generator to calculate the Amortization table\n",
        "    This can be used to generate the dataframe\n",
        "    \n",
        "    Inputs are:\n",
        "    principal = Principal amount\n",
        "    interest_rate = posted annual interest rate\n",
        "    years = years of amortization, \n",
        "    pmt = payment amount per period\n",
        "    addl_principal = Additional Principal paid per period\n",
        "    annual_payments = annual number of regular payments\n",
        "    start_date = \n",
        "    start date\n",
        "    \n",
        "    Output is Ordered Dictionary of results\n",
        "    \"\"\"\n",
        "        \n",
        "    # initialize the variables to keep track of the periods and running balances\n",
        "    p = 1\n",
        "    beg_balance = principal\n",
        "    end_balance = principal\n",
        "\n",
        "    while end_balance > 0:\n",
        "\n",
        "        # Recalculate the interest based on the current balance\n",
        "        interest = round(((interest_rate/annual_payments) * beg_balance), 2)\n",
        "\n",
        "        # Determine payment based on whether or not this period will pay off the loan\n",
        "        pmt = min(pmt, beg_balance + interest)\n",
        "        principal = pmt - interest\n",
        "\n",
        "        # Ensure additional payment gets adjusted if the loan is being paid off\n",
        "        addl_principal = min(addl_principal, beg_balance - principal)\n",
        "        end_balance = beg_balance - (principal + addl_principal)\n",
        "\n",
        "        yield OrderedDict([('Month',start_date),\n",
        "                           ('Period', p),\n",
        "                           ('BeginBal', beg_balance),\n",
        "                           ('Payment', pmt),\n",
        "                           ('Principal', principal),\n",
        "                           ('Interest', interest),\n",
        "                           ('AddtnlPayment', addl_principal),\n",
        "                           ('EndBal', end_balance)])\n",
        "\n",
        "        # Increment the counter, balance and date\n",
        "        p += 1\n",
        "        start_date += relativedelta(months=1)\n",
        "        beg_balance = end_balance\n",
        "        if p > 1000:\n",
        "          break\n"
      ],
      "execution_count": 6,
      "outputs": []
    },
    {
      "cell_type": "markdown",
      "metadata": {
        "id": "HLAWrr4ykSfn"
      },
      "source": [
        "### Create Amortization Table"
      ]
    },
    {
      "cell_type": "code",
      "metadata": {
        "id": "iAskygNXkSfn"
      },
      "source": [
        "def AmortTable(principal, interest_rate, years, pmt=0,\n",
        "                       addl_principal=0, annual_payments=12, start_date=date.today()):\n",
        "    \"\"\"\n",
        "    Calculate the amortization schedule given the loan details as well as summary stats for the loan\n",
        "\n",
        "    :param principal: Amount borrowed\n",
        "    :param interest_rate: The annual interest rate for this loan\n",
        "    :param years: Number of years for the loan\n",
        "    :param pmt: the fixed payment, if zero, calculate payment in this function\n",
        "    \n",
        "    :param annual_payments (optional): Number of payments in a year. DEfault 12.\n",
        "    :param addl_principal (optional): Additional payments to be made each period. Default 0.\n",
        "    :param start_date (optional): Start date. Default first of next month if none provided\n",
        "\n",
        "    :return: \n",
        "        schedule: Amortization schedule as a pandas dataframe\n",
        "        summary: Pandas dataframe that summarizes the payoff information\n",
        "    \"\"\"\n",
        "    \n",
        "    # Payment stays constant based on the original terms of the loan\n",
        "    if pmt == 0:\n",
        "      payment = -round(npf.pmt(interest_rate/annual_payments, years*annual_payments, principal), 2)\n",
        "    else:\n",
        "      payment=-pmt\n",
        "    \n",
        "    # Generate the schedule and order the resulting columns for convenience\n",
        "    schedule = pd.DataFrame(amortize(principal, interest_rate, years, payment,\n",
        "                                     addl_principal, annual_payments, start_date))\n",
        "    schedule = schedule[[\"Period\", \"Month\", \"BeginBal\", \"Payment\", \"Principal\", \n",
        "                          \"Interest\", \"AddtnlPayment\", \"EndBal\"]]\n",
        "    \n",
        "    # Convert to a datetime object to make subsequent calcs easier\n",
        "    schedule[\"Month\"] = pd.to_datetime(schedule[\"Month\"])\n",
        "    \n",
        "    #Create a summary statistics table\n",
        "    payoff_date = schedule[\"Month\"].iloc[-1]\n",
        "    posted_rt = 2*((1+interest_rate/12)**6-1)\n",
        "    stats = pd.Series([payoff_date, schedule[\"Period\"].count(), round(interest_rate*100,2),\n",
        "                       round(posted_rt*100,2),years, principal, payment, addl_principal,\n",
        "                       schedule[\"Interest\"].sum()],\n",
        "                       index=[\"Payoff Date\", \"Num Payments\", \"Effective Annual Interest Rate, %\", \n",
        "                              \"Posted Annual Rate, %\",\"Amortization Period, Years\", \"Principal\",\n",
        "                             \"Payment\", \"Additional Payment\", \"Total Interest\"])\n",
        "    \n",
        "    return schedule, stats"
      ],
      "execution_count": 7,
      "outputs": []
    },
    {
      "cell_type": "markdown",
      "metadata": {
        "heading_collapsed": "true",
        "id": "3BCR8xQMkSfo"
      },
      "source": [
        "### Get Results"
      ]
    },
    {
      "cell_type": "code",
      "metadata": {
        "id": "39T1DjT2kSfq",
        "colab": {
          "base_uri": "https://localhost:8080/",
          "height": 204
        },
        "outputId": "ed88d1e4-f579-423e-8569-40fba5d599f5"
      },
      "source": [
        "sch,stats = AmortTable(principal=P,interest_rate=apr,years=t,pmt=0,addl_principal=Addl_Principal,annual_payments=n,start_date=startdate)\n",
        "\n",
        "sch.head()"
      ],
      "execution_count": 8,
      "outputs": [
        {
          "output_type": "execute_result",
          "data": {
            "text/html": [
              "<div>\n",
              "<style scoped>\n",
              "    .dataframe tbody tr th:only-of-type {\n",
              "        vertical-align: middle;\n",
              "    }\n",
              "\n",
              "    .dataframe tbody tr th {\n",
              "        vertical-align: top;\n",
              "    }\n",
              "\n",
              "    .dataframe thead th {\n",
              "        text-align: right;\n",
              "    }\n",
              "</style>\n",
              "<table border=\"1\" class=\"dataframe\">\n",
              "  <thead>\n",
              "    <tr style=\"text-align: right;\">\n",
              "      <th></th>\n",
              "      <th>Period</th>\n",
              "      <th>Month</th>\n",
              "      <th>BeginBal</th>\n",
              "      <th>Payment</th>\n",
              "      <th>Principal</th>\n",
              "      <th>Interest</th>\n",
              "      <th>AddtnlPayment</th>\n",
              "      <th>EndBal</th>\n",
              "    </tr>\n",
              "  </thead>\n",
              "  <tbody>\n",
              "    <tr>\n",
              "      <th>0</th>\n",
              "      <td>1</td>\n",
              "      <td>2021-01-01</td>\n",
              "      <td>100000.00</td>\n",
              "      <td>581.6</td>\n",
              "      <td>169.21</td>\n",
              "      <td>412.39</td>\n",
              "      <td>0</td>\n",
              "      <td>99830.79</td>\n",
              "    </tr>\n",
              "    <tr>\n",
              "      <th>1</th>\n",
              "      <td>2</td>\n",
              "      <td>2021-02-01</td>\n",
              "      <td>99830.79</td>\n",
              "      <td>581.6</td>\n",
              "      <td>169.91</td>\n",
              "      <td>411.69</td>\n",
              "      <td>0</td>\n",
              "      <td>99660.88</td>\n",
              "    </tr>\n",
              "    <tr>\n",
              "      <th>2</th>\n",
              "      <td>3</td>\n",
              "      <td>2021-03-01</td>\n",
              "      <td>99660.88</td>\n",
              "      <td>581.6</td>\n",
              "      <td>170.61</td>\n",
              "      <td>410.99</td>\n",
              "      <td>0</td>\n",
              "      <td>99490.27</td>\n",
              "    </tr>\n",
              "    <tr>\n",
              "      <th>3</th>\n",
              "      <td>4</td>\n",
              "      <td>2021-04-01</td>\n",
              "      <td>99490.27</td>\n",
              "      <td>581.6</td>\n",
              "      <td>171.31</td>\n",
              "      <td>410.29</td>\n",
              "      <td>0</td>\n",
              "      <td>99318.96</td>\n",
              "    </tr>\n",
              "    <tr>\n",
              "      <th>4</th>\n",
              "      <td>5</td>\n",
              "      <td>2021-05-01</td>\n",
              "      <td>99318.96</td>\n",
              "      <td>581.6</td>\n",
              "      <td>172.02</td>\n",
              "      <td>409.58</td>\n",
              "      <td>0</td>\n",
              "      <td>99146.94</td>\n",
              "    </tr>\n",
              "  </tbody>\n",
              "</table>\n",
              "</div>"
            ],
            "text/plain": [
              "   Period      Month   BeginBal  ...  Interest  AddtnlPayment    EndBal\n",
              "0       1 2021-01-01  100000.00  ...    412.39              0  99830.79\n",
              "1       2 2021-02-01   99830.79  ...    411.69              0  99660.88\n",
              "2       3 2021-03-01   99660.88  ...    410.99              0  99490.27\n",
              "3       4 2021-04-01   99490.27  ...    410.29              0  99318.96\n",
              "4       5 2021-05-01   99318.96  ...    409.58              0  99146.94\n",
              "\n",
              "[5 rows x 8 columns]"
            ]
          },
          "metadata": {
            "tags": []
          },
          "execution_count": 8
        }
      ]
    },
    {
      "cell_type": "code",
      "metadata": {
        "id": "s-aIysDnqnX_",
        "colab": {
          "base_uri": "https://localhost:8080/",
          "height": 204
        },
        "outputId": "6c07a545-b082-4fa8-aee2-8584cbe9de53"
      },
      "source": [
        "sch.tail()"
      ],
      "execution_count": 9,
      "outputs": [
        {
          "output_type": "execute_result",
          "data": {
            "text/html": [
              "<div>\n",
              "<style scoped>\n",
              "    .dataframe tbody tr th:only-of-type {\n",
              "        vertical-align: middle;\n",
              "    }\n",
              "\n",
              "    .dataframe tbody tr th {\n",
              "        vertical-align: top;\n",
              "    }\n",
              "\n",
              "    .dataframe thead th {\n",
              "        text-align: right;\n",
              "    }\n",
              "</style>\n",
              "<table border=\"1\" class=\"dataframe\">\n",
              "  <thead>\n",
              "    <tr style=\"text-align: right;\">\n",
              "      <th></th>\n",
              "      <th>Period</th>\n",
              "      <th>Month</th>\n",
              "      <th>BeginBal</th>\n",
              "      <th>Payment</th>\n",
              "      <th>Principal</th>\n",
              "      <th>Interest</th>\n",
              "      <th>AddtnlPayment</th>\n",
              "      <th>EndBal</th>\n",
              "    </tr>\n",
              "  </thead>\n",
              "  <tbody>\n",
              "    <tr>\n",
              "      <th>296</th>\n",
              "      <td>297</td>\n",
              "      <td>2045-09-01</td>\n",
              "      <td>2305.52</td>\n",
              "      <td>581.60</td>\n",
              "      <td>572.09</td>\n",
              "      <td>9.51</td>\n",
              "      <td>0</td>\n",
              "      <td>1733.43</td>\n",
              "    </tr>\n",
              "    <tr>\n",
              "      <th>297</th>\n",
              "      <td>298</td>\n",
              "      <td>2045-10-01</td>\n",
              "      <td>1733.43</td>\n",
              "      <td>581.60</td>\n",
              "      <td>574.45</td>\n",
              "      <td>7.15</td>\n",
              "      <td>0</td>\n",
              "      <td>1158.98</td>\n",
              "    </tr>\n",
              "    <tr>\n",
              "      <th>298</th>\n",
              "      <td>299</td>\n",
              "      <td>2045-11-01</td>\n",
              "      <td>1158.98</td>\n",
              "      <td>581.60</td>\n",
              "      <td>576.82</td>\n",
              "      <td>4.78</td>\n",
              "      <td>0</td>\n",
              "      <td>582.16</td>\n",
              "    </tr>\n",
              "    <tr>\n",
              "      <th>299</th>\n",
              "      <td>300</td>\n",
              "      <td>2045-12-01</td>\n",
              "      <td>582.16</td>\n",
              "      <td>581.60</td>\n",
              "      <td>579.20</td>\n",
              "      <td>2.40</td>\n",
              "      <td>0</td>\n",
              "      <td>2.96</td>\n",
              "    </tr>\n",
              "    <tr>\n",
              "      <th>300</th>\n",
              "      <td>301</td>\n",
              "      <td>2046-01-01</td>\n",
              "      <td>2.96</td>\n",
              "      <td>2.97</td>\n",
              "      <td>2.96</td>\n",
              "      <td>0.01</td>\n",
              "      <td>0</td>\n",
              "      <td>0.00</td>\n",
              "    </tr>\n",
              "  </tbody>\n",
              "</table>\n",
              "</div>"
            ],
            "text/plain": [
              "     Period      Month  BeginBal  ...  Interest  AddtnlPayment   EndBal\n",
              "296     297 2045-09-01   2305.52  ...      9.51              0  1733.43\n",
              "297     298 2045-10-01   1733.43  ...      7.15              0  1158.98\n",
              "298     299 2045-11-01   1158.98  ...      4.78              0   582.16\n",
              "299     300 2045-12-01    582.16  ...      2.40              0     2.96\n",
              "300     301 2046-01-01      2.96  ...      0.01              0     0.00\n",
              "\n",
              "[5 rows x 8 columns]"
            ]
          },
          "metadata": {
            "tags": []
          },
          "execution_count": 9
        }
      ]
    },
    {
      "cell_type": "markdown",
      "metadata": {
        "id": "-1YQeYG1rSR4"
      },
      "source": [
        "The above schedule for 100,000 at 5% amortized over 25 years with $581.60 payments monthly matches the online calculator exactly (see the pdf). So the amortization schedule is being done correctly."
      ]
    },
    {
      "cell_type": "code",
      "metadata": {
        "id": "rbN22x0pkSfq",
        "colab": {
          "base_uri": "https://localhost:8080/"
        },
        "outputId": "ccc315ab-72f5-40e3-fe9d-c432c79eb679"
      },
      "source": [
        "stats"
      ],
      "execution_count": 10,
      "outputs": [
        {
          "output_type": "execute_result",
          "data": {
            "text/plain": [
              "Payoff Date                          2046-01-01 00:00:00\n",
              "Num Payments                                         301\n",
              "Effective Annual Interest Rate, %                   4.95\n",
              "Posted Annual Rate, %                                  5\n",
              "Amortization Period, Years                            25\n",
              "Principal                                         100000\n",
              "Payment                                            581.6\n",
              "Additional Payment                                     0\n",
              "Total Interest                                     74483\n",
              "dtype: object"
            ]
          },
          "metadata": {
            "tags": []
          },
          "execution_count": 10
        }
      ]
    },
    {
      "cell_type": "markdown",
      "metadata": {
        "id": "f334z-bQkSfr"
      },
      "source": [
        "# Scenarios"
      ]
    },
    {
      "cell_type": "markdown",
      "metadata": {
        "id": "YLfaYQ1QttrW"
      },
      "source": [
        "### 1. First Year of Repayment\n",
        "2021 - no extra payments. Determine principal owing at end of Dec 2021"
      ]
    },
    {
      "cell_type": "code",
      "metadata": {
        "id": "sd3iWvuDtsob"
      },
      "source": [
        "P2 = 449878.87 # principal at start of 2021\n",
        "postedrate2 = 0.019584 # annual interest rate - as quoted - annual interest rate on Mortgage Docs\n",
        "n = 12 # number of payments per year\n",
        "apr2,ear = calc_r(postedrate2,n)\n",
        "t2 = 23.5 # amortization period, years\n",
        "startdate = (date(2021,1,1))\n",
        "Addl_Principal = 0 # Additional Principal per period fpr 2021\n",
        "r_n2 = apr2/n  # monthly interest rate\n",
        "totpymts2 = n*t2 # total number of payments"
      ],
      "execution_count": 11,
      "outputs": []
    },
    {
      "cell_type": "code",
      "metadata": {
        "id": "HswfrojVuMdQ",
        "colab": {
          "base_uri": "https://localhost:8080/"
        },
        "outputId": "5773b14d-6af9-4b83-cfe7-c555cba9d423"
      },
      "source": [
        "pymt2 = npf.pmt(r_n2,totpymts2,P2)  # Calculate Monthly Payment\n",
        "per = 1 # Payment period to calculate the interest amount\n",
        "ipmt2 = npf.ipmt(r_n2,per,totpymts2,P2)\n",
        "ppmt2 = npf.ppmt(r_n2,per,totpymts2,P2)\n",
        "print(f\"Principal of ${P2}, {n} payments/year, {postedrate2*100:.4f}% interest as posted, {t2} years amortization, required payments are ${-pymt2:.2f} per period.\")\n",
        "print(f\"APR in Canada: for a posted rate of {postedrate2*100:.4f}%, APR = {apr2*100:.4f}% and the EAR ={ear*100:.4f}%\")\n",
        "print(f\"For period {per}, the required interest payment is ${-ipmt2:.2f} and the required principal payment is ${-ppmt2:.2f}, not counting for additional payments per period of ${Addl_Principal:.2f}\")"
      ],
      "execution_count": 12,
      "outputs": [
        {
          "output_type": "stream",
          "text": [
            "Principal of $449878.87, 12 payments/year, 1.9584% interest as posted, 23.5 years amortization, required payments are $1990.03 per period.\n",
            "APR in Canada: for a posted rate of 1.9584%, APR = 1.9505% and the EAR =1.9680%\n",
            "For period 1, the required interest payment is $731.22 and the required principal payment is $1258.81, not counting for additional payments per period of $0.00\n"
          ],
          "name": "stdout"
        }
      ]
    },
    {
      "cell_type": "markdown",
      "metadata": {
        "id": "BHsNIil78diz"
      },
      "source": [
        "This calculation matches the mortgage docs for payment amount, amortization, posted rate and principal. So likely correct. However, the docs also show an 'Annual Percentage Rate' of 1.94362% - and I have no idea how they get this."
      ]
    },
    {
      "cell_type": "code",
      "metadata": {
        "id": "vpfDrRNi9vnp"
      },
      "source": [
        "sch2,stats2 = AmortTable(principal=P2,interest_rate=apr2,years=t2,pmt=0,addl_principal=Addl_Principal,annual_payments=n,start_date=startdate)"
      ],
      "execution_count": 13,
      "outputs": []
    },
    {
      "cell_type": "code",
      "metadata": {
        "id": "79vWRyGm-AY-",
        "colab": {
          "base_uri": "https://localhost:8080/",
          "height": 0
        },
        "outputId": "dd577229-62b9-4bb2-bfa7-314ce4818f3a"
      },
      "source": [
        "sch2[11:16]"
      ],
      "execution_count": 14,
      "outputs": [
        {
          "output_type": "execute_result",
          "data": {
            "text/html": [
              "<div>\n",
              "<style scoped>\n",
              "    .dataframe tbody tr th:only-of-type {\n",
              "        vertical-align: middle;\n",
              "    }\n",
              "\n",
              "    .dataframe tbody tr th {\n",
              "        vertical-align: top;\n",
              "    }\n",
              "\n",
              "    .dataframe thead th {\n",
              "        text-align: right;\n",
              "    }\n",
              "</style>\n",
              "<table border=\"1\" class=\"dataframe\">\n",
              "  <thead>\n",
              "    <tr style=\"text-align: right;\">\n",
              "      <th></th>\n",
              "      <th>Period</th>\n",
              "      <th>Month</th>\n",
              "      <th>BeginBal</th>\n",
              "      <th>Payment</th>\n",
              "      <th>Principal</th>\n",
              "      <th>Interest</th>\n",
              "      <th>AddtnlPayment</th>\n",
              "      <th>EndBal</th>\n",
              "    </tr>\n",
              "  </thead>\n",
              "  <tbody>\n",
              "    <tr>\n",
              "      <th>11</th>\n",
              "      <td>12</td>\n",
              "      <td>2021-12-01</td>\n",
              "      <td>435918.92</td>\n",
              "      <td>1990.03</td>\n",
              "      <td>1281.50</td>\n",
              "      <td>708.53</td>\n",
              "      <td>0</td>\n",
              "      <td>434637.42</td>\n",
              "    </tr>\n",
              "    <tr>\n",
              "      <th>12</th>\n",
              "      <td>13</td>\n",
              "      <td>2022-01-01</td>\n",
              "      <td>434637.42</td>\n",
              "      <td>1990.03</td>\n",
              "      <td>1283.58</td>\n",
              "      <td>706.45</td>\n",
              "      <td>0</td>\n",
              "      <td>433353.84</td>\n",
              "    </tr>\n",
              "    <tr>\n",
              "      <th>13</th>\n",
              "      <td>14</td>\n",
              "      <td>2022-02-01</td>\n",
              "      <td>433353.84</td>\n",
              "      <td>1990.03</td>\n",
              "      <td>1285.66</td>\n",
              "      <td>704.37</td>\n",
              "      <td>0</td>\n",
              "      <td>432068.18</td>\n",
              "    </tr>\n",
              "    <tr>\n",
              "      <th>14</th>\n",
              "      <td>15</td>\n",
              "      <td>2022-03-01</td>\n",
              "      <td>432068.18</td>\n",
              "      <td>1990.03</td>\n",
              "      <td>1287.75</td>\n",
              "      <td>702.28</td>\n",
              "      <td>0</td>\n",
              "      <td>430780.43</td>\n",
              "    </tr>\n",
              "    <tr>\n",
              "      <th>15</th>\n",
              "      <td>16</td>\n",
              "      <td>2022-04-01</td>\n",
              "      <td>430780.43</td>\n",
              "      <td>1990.03</td>\n",
              "      <td>1289.85</td>\n",
              "      <td>700.18</td>\n",
              "      <td>0</td>\n",
              "      <td>429490.58</td>\n",
              "    </tr>\n",
              "  </tbody>\n",
              "</table>\n",
              "</div>"
            ],
            "text/plain": [
              "    Period      Month   BeginBal  ...  Interest  AddtnlPayment     EndBal\n",
              "11      12 2021-12-01  435918.92  ...    708.53              0  434637.42\n",
              "12      13 2022-01-01  434637.42  ...    706.45              0  433353.84\n",
              "13      14 2022-02-01  433353.84  ...    704.37              0  432068.18\n",
              "14      15 2022-03-01  432068.18  ...    702.28              0  430780.43\n",
              "15      16 2022-04-01  430780.43  ...    700.18              0  429490.58\n",
              "\n",
              "[5 rows x 8 columns]"
            ]
          },
          "metadata": {
            "tags": []
          },
          "execution_count": 14
        }
      ]
    },
    {
      "cell_type": "code",
      "metadata": {
        "id": "e2MMRUi3-Jxl",
        "colab": {
          "base_uri": "https://localhost:8080/"
        },
        "outputId": "ae9d629c-6963-49a7-8806-40212e36e3df"
      },
      "source": [
        "begApr2022_bal = sch2.iloc[15,2]\n",
        "print(begApr2022_bal)"
      ],
      "execution_count": 15,
      "outputs": [
        {
          "output_type": "stream",
          "text": [
            "430780.42999999993\n"
          ],
          "name": "stdout"
        }
      ]
    },
    {
      "cell_type": "markdown",
      "metadata": {
        "id": "lEqo3-IIkSfw"
      },
      "source": [
        "### 2. Second Year of Repayment  \n",
        "Assumes:\n",
        "\\$250,000 extra available for the prepayments from settlement of 2836 address;  \n",
        "2021 - no extra payments  \n",
        "2022 - repayment of 15% of original principal in Month 3 - apply to Month 4  \n",
        "2022 - double up all payments for Months 4-12  "
      ]
    },
    {
      "cell_type": "code",
      "metadata": {
        "id": "RBsJmXQ3kSfw",
        "colab": {
          "base_uri": "https://localhost:8080/"
        },
        "outputId": "2fe62092-7b03-4349-a922-92f89d510677"
      },
      "source": [
        "Tot_AddlPrincipal = 250000  # From sale of house\n",
        "Addl_Principal2_yearly = 0.15*P2 # additional amount once peryear\n",
        "Addl_monthly_Payment = pymt2\n",
        "print(Addl_Principal2_yearly,Addl_monthly_Payment)"
      ],
      "execution_count": 16,
      "outputs": [
        {
          "output_type": "stream",
          "text": [
            "67481.8305 -1990.0340104748925\n"
          ],
          "name": "stdout"
        }
      ]
    },
    {
      "cell_type": "code",
      "metadata": {
        "id": "XV9h_KHTBEcP"
      },
      "source": [
        "P3 = begApr2022_bal - Addl_Principal2_yearly # principal at start of April 2022 less the lump sum for 2022\n",
        "t3 = t2-15/12 # amortization period, years from April 2022 - end\n",
        "startdate3 = (date(2022,4,1))\n",
        "Addl_Principal3 = -Addl_monthly_Payment # Additional Principal per period for 2022 - Match a Payment Option\n",
        "totpymts3 = n*t3 # total number of payments"
      ],
      "execution_count": 17,
      "outputs": []
    },
    {
      "cell_type": "code",
      "metadata": {
        "colab": {
          "base_uri": "https://localhost:8080/"
        },
        "id": "eYMPkJujDV7q",
        "outputId": "03ce4431-8585-449d-f9bc-ea7b456d4762"
      },
      "source": [
        "print(t3,startdate3,Addl_Principal3,totpymts3)"
      ],
      "execution_count": 18,
      "outputs": [
        {
          "output_type": "stream",
          "text": [
            "22.25 2022-04-01 1990.0340104748925 267.0\n"
          ],
          "name": "stdout"
        }
      ]
    },
    {
      "cell_type": "code",
      "metadata": {
        "id": "FnhEQTackSfw"
      },
      "source": [
        "sch3,stats3 = AmortTable(principal=P3,interest_rate=apr2,years=t3,pmt=pymt2,addl_principal=Addl_Principal3,annual_payments=n,start_date=startdate3)"
      ],
      "execution_count": 19,
      "outputs": []
    },
    {
      "cell_type": "code",
      "metadata": {
        "id": "cnaV7gbHkSfw",
        "colab": {
          "base_uri": "https://localhost:8080/",
          "height": 0
        },
        "outputId": "c944313d-a74c-4206-bab1-9039837febed"
      },
      "source": [
        "sch3[7:10]"
      ],
      "execution_count": 20,
      "outputs": [
        {
          "output_type": "execute_result",
          "data": {
            "text/html": [
              "<div>\n",
              "<style scoped>\n",
              "    .dataframe tbody tr th:only-of-type {\n",
              "        vertical-align: middle;\n",
              "    }\n",
              "\n",
              "    .dataframe tbody tr th {\n",
              "        vertical-align: top;\n",
              "    }\n",
              "\n",
              "    .dataframe thead th {\n",
              "        text-align: right;\n",
              "    }\n",
              "</style>\n",
              "<table border=\"1\" class=\"dataframe\">\n",
              "  <thead>\n",
              "    <tr style=\"text-align: right;\">\n",
              "      <th></th>\n",
              "      <th>Period</th>\n",
              "      <th>Month</th>\n",
              "      <th>BeginBal</th>\n",
              "      <th>Payment</th>\n",
              "      <th>Principal</th>\n",
              "      <th>Interest</th>\n",
              "      <th>AddtnlPayment</th>\n",
              "      <th>EndBal</th>\n",
              "    </tr>\n",
              "  </thead>\n",
              "  <tbody>\n",
              "    <tr>\n",
              "      <th>7</th>\n",
              "      <td>8</td>\n",
              "      <td>2022-11-01</td>\n",
              "      <td>339455.603353</td>\n",
              "      <td>1990.03401</td>\n",
              "      <td>1438.29401</td>\n",
              "      <td>551.74</td>\n",
              "      <td>1990.03401</td>\n",
              "      <td>336027.275332</td>\n",
              "    </tr>\n",
              "    <tr>\n",
              "      <th>8</th>\n",
              "      <td>9</td>\n",
              "      <td>2022-12-01</td>\n",
              "      <td>336027.275332</td>\n",
              "      <td>1990.03401</td>\n",
              "      <td>1443.86401</td>\n",
              "      <td>546.17</td>\n",
              "      <td>1990.03401</td>\n",
              "      <td>332593.377311</td>\n",
              "    </tr>\n",
              "    <tr>\n",
              "      <th>9</th>\n",
              "      <td>10</td>\n",
              "      <td>2023-01-01</td>\n",
              "      <td>332593.377311</td>\n",
              "      <td>1990.03401</td>\n",
              "      <td>1449.44401</td>\n",
              "      <td>540.59</td>\n",
              "      <td>1990.03401</td>\n",
              "      <td>329153.899291</td>\n",
              "    </tr>\n",
              "  </tbody>\n",
              "</table>\n",
              "</div>"
            ],
            "text/plain": [
              "   Period      Month       BeginBal  ...  Interest  AddtnlPayment         EndBal\n",
              "7       8 2022-11-01  339455.603353  ...    551.74     1990.03401  336027.275332\n",
              "8       9 2022-12-01  336027.275332  ...    546.17     1990.03401  332593.377311\n",
              "9      10 2023-01-01  332593.377311  ...    540.59     1990.03401  329153.899291\n",
              "\n",
              "[3 rows x 8 columns]"
            ]
          },
          "metadata": {
            "tags": []
          },
          "execution_count": 20
        }
      ]
    },
    {
      "cell_type": "code",
      "metadata": {
        "id": "wEmScx4wkSfx",
        "colab": {
          "base_uri": "https://localhost:8080/"
        },
        "outputId": "a51f6e59-8501-440d-ca8f-4f86197ff71b"
      },
      "source": [
        "begJan2023_bal = sch3.iloc[9,2]\n",
        "print(begJan2023_bal)"
      ],
      "execution_count": 21,
      "outputs": [
        {
          "output_type": "stream",
          "text": [
            "332593.3773114518\n"
          ],
          "name": "stdout"
        }
      ]
    },
    {
      "cell_type": "markdown",
      "metadata": {
        "id": "FF7mdt9MLgIN"
      },
      "source": [
        "### 3. Third Year of Repayment  \n",
        "Assumes:\n",
        "\\$250,000 extra available for the prepayments from settlement of 2836 address;  \n",
        "2023 - repayment of 15% of original principal in Month 1 - apply to Month 1  \n",
        "2023 - double up all payments for all months"
      ]
    },
    {
      "cell_type": "code",
      "metadata": {
        "colab": {
          "base_uri": "https://localhost:8080/"
        },
        "id": "tOxkuS08MHx-",
        "outputId": "8519b4cd-f849-401c-875a-1c8f454aec00"
      },
      "source": [
        "#Check how much additional principal left at start of year:\n",
        "Tot_AddlPrincipal_left = 250000-Addl_Principal2_yearly-(-9*Addl_monthly_Payment)  # From sale of house\n",
        "print(\"Additional Principal left at start of 2023 = \",Tot_AddlPrincipal_left)"
      ],
      "execution_count": 22,
      "outputs": [
        {
          "output_type": "stream",
          "text": [
            "Additional Principal left at start of 2023 =  164607.86340572598\n"
          ],
          "name": "stdout"
        }
      ]
    },
    {
      "cell_type": "code",
      "metadata": {
        "colab": {
          "base_uri": "https://localhost:8080/"
        },
        "id": "izUjX55uL5pL",
        "outputId": "9a48aad6-81fb-4610-b1ba-a6c89a121c80"
      },
      "source": [
        "\n",
        "Addl_Principal2_yearly = 0.15*P2 # additional amount once peryear\n",
        "Addl_monthly_Payment = pymt2\n",
        "print(Addl_Principal2_yearly,Addl_monthly_Payment)"
      ],
      "execution_count": 23,
      "outputs": [
        {
          "output_type": "stream",
          "text": [
            "67481.8305 -1990.0340104748925\n"
          ],
          "name": "stdout"
        }
      ]
    },
    {
      "cell_type": "code",
      "metadata": {
        "id": "bDU8P5VML5pM"
      },
      "source": [
        "P4 = begJan2023_bal - Addl_Principal2_yearly # principal at start of Jan 2023 less the lump sum for 2023\n",
        "t4 = t3-9/12 # amortization period, years from Jan 2023 - end\n",
        "startdate4 = (date(2023,1,1))\n",
        "Addl_Principal3 = -Addl_monthly_Payment # Additional Principal per period for 2023 - Match a Payment Option\n",
        "totpymts4 = n*t4 # total number of payments"
      ],
      "execution_count": 24,
      "outputs": []
    },
    {
      "cell_type": "code",
      "metadata": {
        "colab": {
          "base_uri": "https://localhost:8080/"
        },
        "id": "LfSdEex7L5pM",
        "outputId": "46d19dc4-96f7-46d8-d761-6d4fac7aa71c"
      },
      "source": [
        "print(t4,startdate4,Addl_Principal3,totpymts4)"
      ],
      "execution_count": 25,
      "outputs": [
        {
          "output_type": "stream",
          "text": [
            "21.5 2023-01-01 1990.0340104748925 258.0\n"
          ],
          "name": "stdout"
        }
      ]
    },
    {
      "cell_type": "code",
      "metadata": {
        "id": "iXYXJnVGL5pM"
      },
      "source": [
        "sch4,stats4 = AmortTable(principal=P4,interest_rate=apr2,years=t4,pmt=pymt2,addl_principal=Addl_Principal3,annual_payments=n,start_date=startdate4)"
      ],
      "execution_count": 26,
      "outputs": []
    },
    {
      "cell_type": "code",
      "metadata": {
        "colab": {
          "base_uri": "https://localhost:8080/",
          "height": 0
        },
        "id": "58mP9KUuL5pM",
        "outputId": "f33e6365-c572-49fa-a086-195f2f0448e5"
      },
      "source": [
        "sch4[9:13]"
      ],
      "execution_count": 27,
      "outputs": [
        {
          "output_type": "execute_result",
          "data": {
            "text/html": [
              "<div>\n",
              "<style scoped>\n",
              "    .dataframe tbody tr th:only-of-type {\n",
              "        vertical-align: middle;\n",
              "    }\n",
              "\n",
              "    .dataframe tbody tr th {\n",
              "        vertical-align: top;\n",
              "    }\n",
              "\n",
              "    .dataframe thead th {\n",
              "        text-align: right;\n",
              "    }\n",
              "</style>\n",
              "<table border=\"1\" class=\"dataframe\">\n",
              "  <thead>\n",
              "    <tr style=\"text-align: right;\">\n",
              "      <th></th>\n",
              "      <th>Period</th>\n",
              "      <th>Month</th>\n",
              "      <th>BeginBal</th>\n",
              "      <th>Payment</th>\n",
              "      <th>Principal</th>\n",
              "      <th>Interest</th>\n",
              "      <th>AddtnlPayment</th>\n",
              "      <th>EndBal</th>\n",
              "    </tr>\n",
              "  </thead>\n",
              "  <tbody>\n",
              "    <tr>\n",
              "      <th>9</th>\n",
              "      <td>10</td>\n",
              "      <td>2023-10-01</td>\n",
              "      <td>232960.634623</td>\n",
              "      <td>1990.03401</td>\n",
              "      <td>1611.38401</td>\n",
              "      <td>378.65</td>\n",
              "      <td>1990.03401</td>\n",
              "      <td>229359.216602</td>\n",
              "    </tr>\n",
              "    <tr>\n",
              "      <th>10</th>\n",
              "      <td>11</td>\n",
              "      <td>2023-11-01</td>\n",
              "      <td>229359.216602</td>\n",
              "      <td>1990.03401</td>\n",
              "      <td>1617.23401</td>\n",
              "      <td>372.80</td>\n",
              "      <td>1990.03401</td>\n",
              "      <td>225751.948581</td>\n",
              "    </tr>\n",
              "    <tr>\n",
              "      <th>11</th>\n",
              "      <td>12</td>\n",
              "      <td>2023-12-01</td>\n",
              "      <td>225751.948581</td>\n",
              "      <td>1990.03401</td>\n",
              "      <td>1623.10401</td>\n",
              "      <td>366.93</td>\n",
              "      <td>1990.03401</td>\n",
              "      <td>222138.810560</td>\n",
              "    </tr>\n",
              "    <tr>\n",
              "      <th>12</th>\n",
              "      <td>13</td>\n",
              "      <td>2024-01-01</td>\n",
              "      <td>222138.810560</td>\n",
              "      <td>1990.03401</td>\n",
              "      <td>1628.97401</td>\n",
              "      <td>361.06</td>\n",
              "      <td>1990.03401</td>\n",
              "      <td>218519.802539</td>\n",
              "    </tr>\n",
              "  </tbody>\n",
              "</table>\n",
              "</div>"
            ],
            "text/plain": [
              "    Period      Month       BeginBal  ...  Interest  AddtnlPayment         EndBal\n",
              "9       10 2023-10-01  232960.634623  ...    378.65     1990.03401  229359.216602\n",
              "10      11 2023-11-01  229359.216602  ...    372.80     1990.03401  225751.948581\n",
              "11      12 2023-12-01  225751.948581  ...    366.93     1990.03401  222138.810560\n",
              "12      13 2024-01-01  222138.810560  ...    361.06     1990.03401  218519.802539\n",
              "\n",
              "[4 rows x 8 columns]"
            ]
          },
          "metadata": {
            "tags": []
          },
          "execution_count": 27
        }
      ]
    },
    {
      "cell_type": "code",
      "metadata": {
        "colab": {
          "base_uri": "https://localhost:8080/"
        },
        "id": "kzgbiAFxL5pN",
        "outputId": "55572cf5-ca04-4231-cc4d-e19a5ec9952f"
      },
      "source": [
        "begJan2024_bal = sch4.iloc[12,2]\n",
        "print(begJan2024_bal)"
      ],
      "execution_count": 28,
      "outputs": [
        {
          "output_type": "stream",
          "text": [
            "222138.8105600544\n"
          ],
          "name": "stdout"
        }
      ]
    },
    {
      "cell_type": "markdown",
      "metadata": {
        "id": "5gXLm1k3N81M"
      },
      "source": [
        "### 4. Fourth Year of Repayment - first two months \n",
        "Assumes:\n",
        "\\$250,000 extra available for the prepayments from settlement of 2836 address;  \n",
        "2024 - repayment of 15% of original principal in Month 1 - apply to Month 1  \n",
        "2024 - double up all payments for months as long as principal lasts"
      ]
    },
    {
      "cell_type": "code",
      "metadata": {
        "colab": {
          "base_uri": "https://localhost:8080/"
        },
        "id": "SnMKkXMGOEOK",
        "outputId": "4e51f2d2-3aed-4dc6-9c77-f16fcd26cb82"
      },
      "source": [
        "#Check how much additional principal left:\n",
        "Tot_AddlPrincipal_left4 = Tot_AddlPrincipal_left-Addl_Principal2_yearly-(-12*Addl_monthly_Payment)  # From sale of house\n",
        "print(\"Total Additional Principal Left at start of 2024 = \",Tot_AddlPrincipal_left4)"
      ],
      "execution_count": 29,
      "outputs": [
        {
          "output_type": "stream",
          "text": [
            "Total Additional Principal Left at start of 2024 =  73245.62478002727\n"
          ],
          "name": "stdout"
        }
      ]
    },
    {
      "cell_type": "markdown",
      "metadata": {
        "id": "9AoNdvb3P-qX"
      },
      "source": [
        "So we can't double up all payments, only to the limit of the principal. Use the leftover amount in year 5 as a lump sum payment"
      ]
    },
    {
      "cell_type": "code",
      "metadata": {
        "id": "Y9qmEhpDQLZ_",
        "colab": {
          "base_uri": "https://localhost:8080/"
        },
        "outputId": "a97d38b6-12bf-49b6-b582-f31426e0e30c"
      },
      "source": [
        "tap4_mthly= Tot_AddlPrincipal_left4 - Addl_Principal2_yearly\n",
        "print(\"Available funds for monthly double ups = \",tap4_mthly)\n",
        "mths = math.floor(tap4_mthly/-pymt2)\n",
        "print(\"Months available to match payment =\",mths)\n",
        "leftover = tap4_mthly - mths*(-pymt2)\n",
        "print(\"Leftover $ =\",leftover)"
      ],
      "execution_count": 30,
      "outputs": [
        {
          "output_type": "stream",
          "text": [
            "Available funds for monthly double ups =  5763.794280027272\n",
            "Months available to match payment = 2\n",
            "Leftover $ = 1783.7262590774872\n"
          ],
          "name": "stdout"
        }
      ]
    },
    {
      "cell_type": "code",
      "metadata": {
        "colab": {
          "base_uri": "https://localhost:8080/"
        },
        "id": "1JmjkBzvOEOL",
        "outputId": "952207bc-5291-4c8c-f0e3-225cbe68c3c7"
      },
      "source": [
        "Addl_Principal2_yearly = 0.15*P2 # additional amount once peryear\n",
        "Addl_monthly_Payment = pymt2\n",
        "print(Addl_Principal2_yearly,Addl_monthly_Payment)"
      ],
      "execution_count": 31,
      "outputs": [
        {
          "output_type": "stream",
          "text": [
            "67481.8305 -1990.0340104748925\n"
          ],
          "name": "stdout"
        }
      ]
    },
    {
      "cell_type": "code",
      "metadata": {
        "id": "2qYwCUosOEOL"
      },
      "source": [
        "P5 = begJan2024_bal - Addl_Principal2_yearly # principal at start of Jan 2024 less the lump sum for 2024\n",
        "t5 = t4-1 # amortization period, years from Jan 2024 - end\n",
        "startdate5 = (date(2024,1,1))\n",
        "Addl_Principal3 = -Addl_monthly_Payment # Additional Principal per period for 2024 first two months - Match a Payment Option\n",
        "totpymts5 = n*t5 # total number of payments"
      ],
      "execution_count": 32,
      "outputs": []
    },
    {
      "cell_type": "code",
      "metadata": {
        "colab": {
          "base_uri": "https://localhost:8080/"
        },
        "id": "dA_kW1_mOEOL",
        "outputId": "fbc37648-3d76-4c21-dee0-2e9ad6a0bdeb"
      },
      "source": [
        "print(t5,startdate5,Addl_Principal3,totpymts5)"
      ],
      "execution_count": 33,
      "outputs": [
        {
          "output_type": "stream",
          "text": [
            "20.5 2024-01-01 1990.0340104748925 246.0\n"
          ],
          "name": "stdout"
        }
      ]
    },
    {
      "cell_type": "code",
      "metadata": {
        "id": "FB27vsEJOEOL"
      },
      "source": [
        "sch5,stats5 = AmortTable(principal=P5,interest_rate=apr2,years=t5,pmt=pymt2,addl_principal=Addl_Principal3,annual_payments=n,start_date=startdate5)"
      ],
      "execution_count": 34,
      "outputs": []
    },
    {
      "cell_type": "code",
      "metadata": {
        "colab": {
          "base_uri": "https://localhost:8080/",
          "height": 0
        },
        "id": "wCvjaCQ3OEOL",
        "outputId": "a1980d08-d53d-4f17-94ce-990de0997938"
      },
      "source": [
        "sch5[2:6]"
      ],
      "execution_count": 35,
      "outputs": [
        {
          "output_type": "execute_result",
          "data": {
            "text/html": [
              "<div>\n",
              "<style scoped>\n",
              "    .dataframe tbody tr th:only-of-type {\n",
              "        vertical-align: middle;\n",
              "    }\n",
              "\n",
              "    .dataframe tbody tr th {\n",
              "        vertical-align: top;\n",
              "    }\n",
              "\n",
              "    .dataframe thead th {\n",
              "        text-align: right;\n",
              "    }\n",
              "</style>\n",
              "<table border=\"1\" class=\"dataframe\">\n",
              "  <thead>\n",
              "    <tr style=\"text-align: right;\">\n",
              "      <th></th>\n",
              "      <th>Period</th>\n",
              "      <th>Month</th>\n",
              "      <th>BeginBal</th>\n",
              "      <th>Payment</th>\n",
              "      <th>Principal</th>\n",
              "      <th>Interest</th>\n",
              "      <th>AddtnlPayment</th>\n",
              "      <th>EndBal</th>\n",
              "    </tr>\n",
              "  </thead>\n",
              "  <tbody>\n",
              "    <tr>\n",
              "      <th>2</th>\n",
              "      <td>3</td>\n",
              "      <td>2024-03-01</td>\n",
              "      <td>147193.544018</td>\n",
              "      <td>1990.03401</td>\n",
              "      <td>1750.78401</td>\n",
              "      <td>239.25</td>\n",
              "      <td>1990.03401</td>\n",
              "      <td>143452.725997</td>\n",
              "    </tr>\n",
              "    <tr>\n",
              "      <th>3</th>\n",
              "      <td>4</td>\n",
              "      <td>2024-04-01</td>\n",
              "      <td>143452.725997</td>\n",
              "      <td>1990.03401</td>\n",
              "      <td>1756.86401</td>\n",
              "      <td>233.17</td>\n",
              "      <td>1990.03401</td>\n",
              "      <td>139705.827976</td>\n",
              "    </tr>\n",
              "    <tr>\n",
              "      <th>4</th>\n",
              "      <td>5</td>\n",
              "      <td>2024-05-01</td>\n",
              "      <td>139705.827976</td>\n",
              "      <td>1990.03401</td>\n",
              "      <td>1762.95401</td>\n",
              "      <td>227.08</td>\n",
              "      <td>1990.03401</td>\n",
              "      <td>135952.839955</td>\n",
              "    </tr>\n",
              "    <tr>\n",
              "      <th>5</th>\n",
              "      <td>6</td>\n",
              "      <td>2024-06-01</td>\n",
              "      <td>135952.839955</td>\n",
              "      <td>1990.03401</td>\n",
              "      <td>1769.05401</td>\n",
              "      <td>220.98</td>\n",
              "      <td>1990.03401</td>\n",
              "      <td>132193.751934</td>\n",
              "    </tr>\n",
              "  </tbody>\n",
              "</table>\n",
              "</div>"
            ],
            "text/plain": [
              "   Period      Month       BeginBal  ...  Interest  AddtnlPayment         EndBal\n",
              "2       3 2024-03-01  147193.544018  ...    239.25     1990.03401  143452.725997\n",
              "3       4 2024-04-01  143452.725997  ...    233.17     1990.03401  139705.827976\n",
              "4       5 2024-05-01  139705.827976  ...    227.08     1990.03401  135952.839955\n",
              "5       6 2024-06-01  135952.839955  ...    220.98     1990.03401  132193.751934\n",
              "\n",
              "[4 rows x 8 columns]"
            ]
          },
          "metadata": {
            "tags": []
          },
          "execution_count": 35
        }
      ]
    },
    {
      "cell_type": "code",
      "metadata": {
        "colab": {
          "base_uri": "https://localhost:8080/"
        },
        "id": "HtMl6brXOEOM",
        "outputId": "be99aef8-7c4f-45f3-c63b-d74da0dbce60"
      },
      "source": [
        "begMar2024_bal = sch5.iloc[2,2]\n",
        "print(begMar2024_bal)"
      ],
      "execution_count": 36,
      "outputs": [
        {
          "output_type": "stream",
          "text": [
            "147193.54401815485\n"
          ],
          "name": "stdout"
        }
      ]
    },
    {
      "cell_type": "markdown",
      "metadata": {
        "id": "fxUWqOQ0PMPE"
      },
      "source": [
        "### 4A. Months 3-12 2024 - Fourth Year of Repayment  \n",
        "Assumes:\n",
        "\\$250,000 extra available for the prepayments from settlement of 2836 address;  \n",
        "2024 Months 3-12 - just standard amortization"
      ]
    },
    {
      "cell_type": "code",
      "metadata": {
        "id": "HuXdUgMfPhvU"
      },
      "source": [
        "P5A = begMar2024_bal # principal at start of March 2024\n",
        "t5A = t5-2/12 # amortization period, years from March 2024 - end\n",
        "startdate5A = (date(2024,3,1))\n",
        "Addl_Principal5A = 0 # No additional Monthly principal left\n",
        "totpymts5A = n*t5A # total number of payments"
      ],
      "execution_count": 37,
      "outputs": []
    },
    {
      "cell_type": "code",
      "metadata": {
        "colab": {
          "base_uri": "https://localhost:8080/"
        },
        "id": "hybOWM3hPhvV",
        "outputId": "ca79cced-b916-43f3-d7d0-64356dfb5c32"
      },
      "source": [
        "print(t5A,startdate5A,Addl_Principal5A,totpymts5A)"
      ],
      "execution_count": 38,
      "outputs": [
        {
          "output_type": "stream",
          "text": [
            "20.333333333333332 2024-03-01 0 244.0\n"
          ],
          "name": "stdout"
        }
      ]
    },
    {
      "cell_type": "code",
      "metadata": {
        "id": "k_MwNLfGPhvV"
      },
      "source": [
        "sch5A,stats5A = AmortTable(principal=P5A,interest_rate=apr2,years=t5A,pmt=pymt2,addl_principal=Addl_Principal5A,annual_payments=n,start_date=startdate5A)"
      ],
      "execution_count": 39,
      "outputs": []
    },
    {
      "cell_type": "code",
      "metadata": {
        "colab": {
          "base_uri": "https://localhost:8080/",
          "height": 0
        },
        "id": "ZqjSXB5SPhvV",
        "outputId": "ba60960e-b320-46b8-e577-de02b0e3228b"
      },
      "source": [
        "sch5A[9:13]"
      ],
      "execution_count": 40,
      "outputs": [
        {
          "output_type": "execute_result",
          "data": {
            "text/html": [
              "<div>\n",
              "<style scoped>\n",
              "    .dataframe tbody tr th:only-of-type {\n",
              "        vertical-align: middle;\n",
              "    }\n",
              "\n",
              "    .dataframe tbody tr th {\n",
              "        vertical-align: top;\n",
              "    }\n",
              "\n",
              "    .dataframe thead th {\n",
              "        text-align: right;\n",
              "    }\n",
              "</style>\n",
              "<table border=\"1\" class=\"dataframe\">\n",
              "  <thead>\n",
              "    <tr style=\"text-align: right;\">\n",
              "      <th></th>\n",
              "      <th>Period</th>\n",
              "      <th>Month</th>\n",
              "      <th>BeginBal</th>\n",
              "      <th>Payment</th>\n",
              "      <th>Principal</th>\n",
              "      <th>Interest</th>\n",
              "      <th>AddtnlPayment</th>\n",
              "      <th>EndBal</th>\n",
              "    </tr>\n",
              "  </thead>\n",
              "  <tbody>\n",
              "    <tr>\n",
              "      <th>9</th>\n",
              "      <td>10</td>\n",
              "      <td>2024-12-01</td>\n",
              "      <td>131333.617924</td>\n",
              "      <td>1990.03401</td>\n",
              "      <td>1776.56401</td>\n",
              "      <td>213.47</td>\n",
              "      <td>0</td>\n",
              "      <td>129557.053913</td>\n",
              "    </tr>\n",
              "    <tr>\n",
              "      <th>10</th>\n",
              "      <td>11</td>\n",
              "      <td>2025-01-01</td>\n",
              "      <td>129557.053913</td>\n",
              "      <td>1990.03401</td>\n",
              "      <td>1779.45401</td>\n",
              "      <td>210.58</td>\n",
              "      <td>0</td>\n",
              "      <td>127777.599903</td>\n",
              "    </tr>\n",
              "    <tr>\n",
              "      <th>11</th>\n",
              "      <td>12</td>\n",
              "      <td>2025-02-01</td>\n",
              "      <td>127777.599903</td>\n",
              "      <td>1990.03401</td>\n",
              "      <td>1782.34401</td>\n",
              "      <td>207.69</td>\n",
              "      <td>0</td>\n",
              "      <td>125995.255892</td>\n",
              "    </tr>\n",
              "    <tr>\n",
              "      <th>12</th>\n",
              "      <td>13</td>\n",
              "      <td>2025-03-01</td>\n",
              "      <td>125995.255892</td>\n",
              "      <td>1990.03401</td>\n",
              "      <td>1785.24401</td>\n",
              "      <td>204.79</td>\n",
              "      <td>0</td>\n",
              "      <td>124210.011882</td>\n",
              "    </tr>\n",
              "  </tbody>\n",
              "</table>\n",
              "</div>"
            ],
            "text/plain": [
              "    Period      Month       BeginBal  ...  Interest  AddtnlPayment         EndBal\n",
              "9       10 2024-12-01  131333.617924  ...    213.47              0  129557.053913\n",
              "10      11 2025-01-01  129557.053913  ...    210.58              0  127777.599903\n",
              "11      12 2025-02-01  127777.599903  ...    207.69              0  125995.255892\n",
              "12      13 2025-03-01  125995.255892  ...    204.79              0  124210.011882\n",
              "\n",
              "[4 rows x 8 columns]"
            ]
          },
          "metadata": {
            "tags": []
          },
          "execution_count": 40
        }
      ]
    },
    {
      "cell_type": "code",
      "metadata": {
        "colab": {
          "base_uri": "https://localhost:8080/"
        },
        "id": "gixo2mRiPhvV",
        "outputId": "346b56c9-f08e-458e-8a33-53667c10bd5a"
      },
      "source": [
        "begJan2025_bal = sch5A.iloc[10,2]\n",
        "print(begJan2025_bal)"
      ],
      "execution_count": 41,
      "outputs": [
        {
          "output_type": "stream",
          "text": [
            "129557.05391340595\n"
          ],
          "name": "stdout"
        }
      ]
    },
    {
      "cell_type": "markdown",
      "metadata": {
        "id": "V2sCpdHrS7S6"
      },
      "source": [
        "### 5. Fifth Year of Repayment - 2025 - Last Year\n",
        "\n",
        "Assumes:\n",
        "2025 - use leftover amount from 2024 monthlies in Month 1 - apply to Month 1  "
      ]
    },
    {
      "cell_type": "code",
      "metadata": {
        "colab": {
          "base_uri": "https://localhost:8080/"
        },
        "id": "SvYHruHvS7S6",
        "outputId": "ed96cdb4-c023-4ca7-c36d-342773a3770e"
      },
      "source": [
        "Addl_Principal6_yearly = leftover # additional amount once peryear\n",
        "Addl_monthly_Payment6 = 0\n",
        "print(Addl_Principal6_yearly,Addl_monthly_Payment6)"
      ],
      "execution_count": 42,
      "outputs": [
        {
          "output_type": "stream",
          "text": [
            "1783.7262590774872 0\n"
          ],
          "name": "stdout"
        }
      ]
    },
    {
      "cell_type": "code",
      "metadata": {
        "id": "b3BqvlodS7S7"
      },
      "source": [
        "P6 = begJan2025_bal - Addl_Principal6_yearly # principal at start of Jan 2025 less the lump sum for 2025\n",
        "t6 = t5-1 # amortization period, years from Jan 2025 - end\n",
        "startdate6 = (date(2025,1,1))\n",
        "Addl_Principal6 = Addl_monthly_Payment6 # Additional Principal per period for 2025 - None\n",
        "totpymts6 = n*t6 # total number of payments"
      ],
      "execution_count": 43,
      "outputs": []
    },
    {
      "cell_type": "code",
      "metadata": {
        "colab": {
          "base_uri": "https://localhost:8080/"
        },
        "id": "njnmpI8HS7S7",
        "outputId": "a6024de6-0072-4711-dc73-8ff6b47ac394"
      },
      "source": [
        "print(t6,startdate6,Addl_Principal6,totpymts6)"
      ],
      "execution_count": 44,
      "outputs": [
        {
          "output_type": "stream",
          "text": [
            "19.5 2025-01-01 0 234.0\n"
          ],
          "name": "stdout"
        }
      ]
    },
    {
      "cell_type": "code",
      "metadata": {
        "id": "iPq16VsRS7S7"
      },
      "source": [
        "sch6,stats6 = AmortTable(principal=P6,interest_rate=apr2,years=t6,pmt=pymt2,addl_principal=Addl_Principal6,annual_payments=n,start_date=startdate6)"
      ],
      "execution_count": 45,
      "outputs": []
    },
    {
      "cell_type": "code",
      "metadata": {
        "colab": {
          "base_uri": "https://localhost:8080/",
          "height": 173
        },
        "id": "ivI7PpqbS7S7",
        "outputId": "5c1dd570-83db-4ec5-fe4a-bd552f0a44e6"
      },
      "source": [
        "sch6[9:13]"
      ],
      "execution_count": 46,
      "outputs": [
        {
          "output_type": "execute_result",
          "data": {
            "text/html": [
              "<div>\n",
              "<style scoped>\n",
              "    .dataframe tbody tr th:only-of-type {\n",
              "        vertical-align: middle;\n",
              "    }\n",
              "\n",
              "    .dataframe tbody tr th {\n",
              "        vertical-align: top;\n",
              "    }\n",
              "\n",
              "    .dataframe thead th {\n",
              "        text-align: right;\n",
              "    }\n",
              "</style>\n",
              "<table border=\"1\" class=\"dataframe\">\n",
              "  <thead>\n",
              "    <tr style=\"text-align: right;\">\n",
              "      <th></th>\n",
              "      <th>Period</th>\n",
              "      <th>Month</th>\n",
              "      <th>BeginBal</th>\n",
              "      <th>Payment</th>\n",
              "      <th>Principal</th>\n",
              "      <th>Interest</th>\n",
              "      <th>AddtnlPayment</th>\n",
              "      <th>EndBal</th>\n",
              "    </tr>\n",
              "  </thead>\n",
              "  <tbody>\n",
              "    <tr>\n",
              "      <th>9</th>\n",
              "      <td>10</td>\n",
              "      <td>2025-10-01</td>\n",
              "      <td>111627.451560</td>\n",
              "      <td>1990.03401</td>\n",
              "      <td>1808.59401</td>\n",
              "      <td>181.44</td>\n",
              "      <td>0</td>\n",
              "      <td>109818.857550</td>\n",
              "    </tr>\n",
              "    <tr>\n",
              "      <th>10</th>\n",
              "      <td>11</td>\n",
              "      <td>2025-11-01</td>\n",
              "      <td>109818.857550</td>\n",
              "      <td>1990.03401</td>\n",
              "      <td>1811.53401</td>\n",
              "      <td>178.50</td>\n",
              "      <td>0</td>\n",
              "      <td>108007.323539</td>\n",
              "    </tr>\n",
              "    <tr>\n",
              "      <th>11</th>\n",
              "      <td>12</td>\n",
              "      <td>2025-12-01</td>\n",
              "      <td>108007.323539</td>\n",
              "      <td>1990.03401</td>\n",
              "      <td>1814.48401</td>\n",
              "      <td>175.55</td>\n",
              "      <td>0</td>\n",
              "      <td>106192.839529</td>\n",
              "    </tr>\n",
              "    <tr>\n",
              "      <th>12</th>\n",
              "      <td>13</td>\n",
              "      <td>2026-01-01</td>\n",
              "      <td>106192.839529</td>\n",
              "      <td>1990.03401</td>\n",
              "      <td>1817.43401</td>\n",
              "      <td>172.60</td>\n",
              "      <td>0</td>\n",
              "      <td>104375.405518</td>\n",
              "    </tr>\n",
              "  </tbody>\n",
              "</table>\n",
              "</div>"
            ],
            "text/plain": [
              "    Period      Month       BeginBal  ...  Interest  AddtnlPayment         EndBal\n",
              "9       10 2025-10-01  111627.451560  ...    181.44              0  109818.857550\n",
              "10      11 2025-11-01  109818.857550  ...    178.50              0  108007.323539\n",
              "11      12 2025-12-01  108007.323539  ...    175.55              0  106192.839529\n",
              "12      13 2026-01-01  106192.839529  ...    172.60              0  104375.405518\n",
              "\n",
              "[4 rows x 8 columns]"
            ]
          },
          "metadata": {
            "tags": []
          },
          "execution_count": 46
        }
      ]
    },
    {
      "cell_type": "code",
      "metadata": {
        "colab": {
          "base_uri": "https://localhost:8080/"
        },
        "id": "iRmp69vRS7S7",
        "outputId": "ad9c6f92-0ac5-4528-bd93-8e6772fc262a"
      },
      "source": [
        "begJan2026_bal = sch6.iloc[12,2]\n",
        "print(f\"Balance Left to refinance or payout at end of term = ${begJan2026_bal:.2f}\")"
      ],
      "execution_count": 47,
      "outputs": [
        {
          "output_type": "stream",
          "text": [
            "Balance Left to refinance or payout at end of term = $106192.84\n"
          ],
          "name": "stdout"
        }
      ]
    },
    {
      "cell_type": "markdown",
      "metadata": {
        "id": "v5Jn_QYfVoz1"
      },
      "source": [
        "### 5A. Fifth Year of Repayment - 2025 - Last Year - Alternate Scenario\n",
        "\n",
        "Assumes:\n",
        "2025 - use leftover amount from 2024 monthlies in Month 1 - apply to Month 1  \n",
        "Determine how much extra lump sum we could/should use to get to < \\$20,000 by end of year"
      ]
    },
    {
      "cell_type": "code",
      "metadata": {
        "colab": {
          "base_uri": "https://localhost:8080/"
        },
        "id": "Y6DaEe6aVoz1",
        "outputId": "e1534104-7364-4742-cf72-3d30e66ad6ea"
      },
      "source": [
        "EXTRA = 80000\n",
        "Addl_Principal6A_yearly = leftover+EXTRA # additional amount once peryear\n",
        "Addl_monthly_Payment6A = 0\n",
        "print(Addl_Principal6A_yearly,Addl_monthly_Payment6A)"
      ],
      "execution_count": 48,
      "outputs": [
        {
          "output_type": "stream",
          "text": [
            "81783.72625907749 0\n"
          ],
          "name": "stdout"
        }
      ]
    },
    {
      "cell_type": "code",
      "metadata": {
        "id": "-t67mZ15Voz1"
      },
      "source": [
        "P6A = begJan2025_bal - Addl_Principal6A_yearly # principal at start of Jan 2025 less the lump sum for 2025\n",
        "t6A = t5-1 # amortization period, years from Jan 2025 - end\n",
        "startdate6A = (date(2025,1,1))\n",
        "Addl_Principal6A = Addl_monthly_Payment6A # Additional Principal per period for 2025 - None\n",
        "totpymts6A = n*t6A # total number of payments"
      ],
      "execution_count": 49,
      "outputs": []
    },
    {
      "cell_type": "code",
      "metadata": {
        "colab": {
          "base_uri": "https://localhost:8080/"
        },
        "id": "MDLV4nYvVoz2",
        "outputId": "0f271eb5-caea-4777-beca-3c75f09d72c9"
      },
      "source": [
        "print(t6A,startdate6A,Addl_Principal6A,totpymts6A)"
      ],
      "execution_count": 50,
      "outputs": [
        {
          "output_type": "stream",
          "text": [
            "19.5 2025-01-01 0 234.0\n"
          ],
          "name": "stdout"
        }
      ]
    },
    {
      "cell_type": "code",
      "metadata": {
        "id": "hxYFSGKCVoz2"
      },
      "source": [
        "sch6A,stats6A = AmortTable(principal=P6A,interest_rate=apr2,years=t6A,pmt=pymt2,addl_principal=Addl_Principal6A,annual_payments=n,start_date=startdate6A)"
      ],
      "execution_count": 51,
      "outputs": []
    },
    {
      "cell_type": "code",
      "metadata": {
        "colab": {
          "base_uri": "https://localhost:8080/",
          "height": 0
        },
        "id": "vKYD6FDoVoz2",
        "outputId": "f5cfd8a7-1971-4e0f-d653-c6ddd6303aea"
      },
      "source": [
        "sch6A[9:13]"
      ],
      "execution_count": 52,
      "outputs": [
        {
          "output_type": "execute_result",
          "data": {
            "text/html": [
              "<div>\n",
              "<style scoped>\n",
              "    .dataframe tbody tr th:only-of-type {\n",
              "        vertical-align: middle;\n",
              "    }\n",
              "\n",
              "    .dataframe tbody tr th {\n",
              "        vertical-align: top;\n",
              "    }\n",
              "\n",
              "    .dataframe thead th {\n",
              "        text-align: right;\n",
              "    }\n",
              "</style>\n",
              "<table border=\"1\" class=\"dataframe\">\n",
              "  <thead>\n",
              "    <tr style=\"text-align: right;\">\n",
              "      <th></th>\n",
              "      <th>Period</th>\n",
              "      <th>Month</th>\n",
              "      <th>BeginBal</th>\n",
              "      <th>Payment</th>\n",
              "      <th>Principal</th>\n",
              "      <th>Interest</th>\n",
              "      <th>AddtnlPayment</th>\n",
              "      <th>EndBal</th>\n",
              "    </tr>\n",
              "  </thead>\n",
              "  <tbody>\n",
              "    <tr>\n",
              "      <th>9</th>\n",
              "      <td>10</td>\n",
              "      <td>2025-10-01</td>\n",
              "      <td>30449.551560</td>\n",
              "      <td>1990.03401</td>\n",
              "      <td>1940.54401</td>\n",
              "      <td>49.49</td>\n",
              "      <td>0</td>\n",
              "      <td>28509.007550</td>\n",
              "    </tr>\n",
              "    <tr>\n",
              "      <th>10</th>\n",
              "      <td>11</td>\n",
              "      <td>2025-11-01</td>\n",
              "      <td>28509.007550</td>\n",
              "      <td>1990.03401</td>\n",
              "      <td>1943.69401</td>\n",
              "      <td>46.34</td>\n",
              "      <td>0</td>\n",
              "      <td>26565.313539</td>\n",
              "    </tr>\n",
              "    <tr>\n",
              "      <th>11</th>\n",
              "      <td>12</td>\n",
              "      <td>2025-12-01</td>\n",
              "      <td>26565.313539</td>\n",
              "      <td>1990.03401</td>\n",
              "      <td>1946.85401</td>\n",
              "      <td>43.18</td>\n",
              "      <td>0</td>\n",
              "      <td>24618.459529</td>\n",
              "    </tr>\n",
              "    <tr>\n",
              "      <th>12</th>\n",
              "      <td>13</td>\n",
              "      <td>2026-01-01</td>\n",
              "      <td>24618.459529</td>\n",
              "      <td>1990.03401</td>\n",
              "      <td>1950.02401</td>\n",
              "      <td>40.01</td>\n",
              "      <td>0</td>\n",
              "      <td>22668.435518</td>\n",
              "    </tr>\n",
              "  </tbody>\n",
              "</table>\n",
              "</div>"
            ],
            "text/plain": [
              "    Period      Month      BeginBal  ...  Interest  AddtnlPayment        EndBal\n",
              "9       10 2025-10-01  30449.551560  ...     49.49              0  28509.007550\n",
              "10      11 2025-11-01  28509.007550  ...     46.34              0  26565.313539\n",
              "11      12 2025-12-01  26565.313539  ...     43.18              0  24618.459529\n",
              "12      13 2026-01-01  24618.459529  ...     40.01              0  22668.435518\n",
              "\n",
              "[4 rows x 8 columns]"
            ]
          },
          "metadata": {
            "tags": []
          },
          "execution_count": 52
        }
      ]
    }
  ]
}