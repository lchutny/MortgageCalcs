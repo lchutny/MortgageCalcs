{
  "nbformat": 4,
  "nbformat_minor": 0,
  "metadata": {
    "kernelspec": {
      "display_name": "Python 3",
      "language": "python",
      "name": "python3"
    },
    "language_info": {
      "codemirror_mode": {
        "name": "ipython",
        "version": 3
      },
      "file_extension": ".py",
      "mimetype": "text/x-python",
      "name": "python",
      "nbconvert_exporter": "python",
      "pygments_lexer": "ipython3",
      "version": "3.8.5"
    },
    "colab": {
      "name": "Copy of MortgageCalc.ipynb",
      "provenance": [],
      "include_colab_link": true
    }
  },
  "cells": [
    {
      "cell_type": "markdown",
      "metadata": {
        "id": "view-in-github",
        "colab_type": "text"
      },
      "source": [
        "<a href=\"https://colab.research.google.com/github/lchutny/MortgageCalcs/blob/main/Copy_of_MortgageCalc.ipynb\" target=\"_parent\"><img src=\"https://colab.research.google.com/assets/colab-badge.svg\" alt=\"Open In Colab\"/></a>"
      ]
    },
    {
      "cell_type": "markdown",
      "metadata": {
        "heading_collapsed": "true",
        "id": "Vjs2NFKrkSfc"
      },
      "source": [
        "# Setup"
      ]
    },
    {
      "cell_type": "code",
      "metadata": {
        "id": "29D7FZm5keqy",
        "colab": {
          "base_uri": "https://localhost:8080/"
        },
        "outputId": "409f1afd-c7af-4b89-b9ba-729f01cc9a4c"
      },
      "source": [
        "!pip install numpy_financial"
      ],
      "execution_count": null,
      "outputs": [
        {
          "output_type": "stream",
          "text": [
            "Collecting numpy_financial\n",
            "  Downloading numpy_financial-1.0.0-py3-none-any.whl (14 kB)\n",
            "Requirement already satisfied: numpy>=1.15 in /usr/local/lib/python3.7/dist-packages (from numpy_financial) (1.19.5)\n",
            "Installing collected packages: numpy-financial\n",
            "Successfully installed numpy-financial-1.0.0\n"
          ],
          "name": "stdout"
        }
      ]
    },
    {
      "cell_type": "code",
      "metadata": {
        "id": "Ruwp0MIukSfd",
        "colab": {
          "base_uri": "https://localhost:8080/"
        },
        "outputId": "f452f857-39ff-4033-9f5e-944fd1909a27"
      },
      "source": [
        "import pandas as pd\n",
        "import matplotlib.pyplot as plt\n",
        "import numpy as np\n",
        "import sys\n",
        "import os\n",
        "from os import listdir, fspath\n",
        "from os.path import isfile, join\n",
        "import numpy_financial as npf\n",
        "from datetime import date\n",
        "from collections import OrderedDict\n",
        "from dateutil.relativedelta import *\n",
        "\n",
        "print (f\"Python version: {sys.version}\")\n",
        "print(f\"Pandas Version: {pd.__version__}\")\n",
        "print(f\"Numpy version: {np.__version__}\")\n",
        "print(f\"Numpy Financial Version {npf.__version__}\")"
      ],
      "execution_count": null,
      "outputs": [
        {
          "output_type": "stream",
          "text": [
            "Python version: 3.7.11 (default, Jul  3 2021, 18:01:19) \n",
            "[GCC 7.5.0]\n",
            "Pandas Version: 1.1.5\n",
            "Numpy version: 1.19.5\n",
            "Numpy Financial Version 1.0.0\n"
          ],
          "name": "stdout"
        }
      ]
    },
    {
      "cell_type": "markdown",
      "metadata": {
        "heading_collapsed": "true",
        "id": "Mmz681ZTkSfe"
      },
      "source": [
        "# Input Data"
      ]
    },
    {
      "cell_type": "code",
      "metadata": {
        "id": "cGMt_gTNkSfe"
      },
      "source": [
        "def calc_r(postedrate, periodsperyear):\n",
        "    \"\"\"Calculates the effective annual rate for a Canadian Posted Rate based on Canada's legal Semi Annual Compounding\n",
        "    and an input number of payment periods per year\n",
        "    \"\"\"\n",
        "    semiannualrate = postedrate/2\n",
        "    CanAnnualRate=((1+semiannualrate)**2-1)\n",
        "    reff_perperiod=(1+CanAnnualRate)**(1/periodsperyear)-1  # \n",
        "    r = reff_perperiod*periodsperyear # back calculate an effective yearly rate based on the semi annual compounding\n",
        "    return r"
      ],
      "execution_count": null,
      "outputs": []
    },
    {
      "cell_type": "code",
      "metadata": {
        "id": "haIgIed7kSfe"
      },
      "source": [
        "P = 100000 # principal\n",
        "postedrate = 0.06 # annual interest rate - as quoted\n",
        "n = 12 # number of payments per year\n",
        "r = calc_r(postedrate,n)\n",
        "t = 25 # amortization period, years\n",
        "startdate = (date(2021,1,1))\n",
        "Addl_Principal = 0 # Additional Principal per period"
      ],
      "execution_count": null,
      "outputs": []
    },
    {
      "cell_type": "markdown",
      "metadata": {
        "id": "erXlkJNWkSfe"
      },
      "source": [
        "#### Change Rate for Canada - Semi Annual Compounding\n",
        "From https://vindeep.com/Corporate/InterestRateConversion.aspx and http://www.yorku.ca/amarshal/mortgage.htm   \n",
        "(In second reference, note error in 2nd line of page, where it should be $r_M = (1.0609)^{1/12}-1$    \n",
        "\n",
        "Note dox for numpy financial:  \n",
        "https://numpy.org/numpy-financial/latest/index.html"
      ]
    },
    {
      "cell_type": "markdown",
      "metadata": {
        "heading_collapsed": "true",
        "id": "w3UIYCk2kSfe"
      },
      "source": [
        "# Basic Calculations"
      ]
    },
    {
      "cell_type": "code",
      "metadata": {
        "id": "rSOu-c4TkSfl",
        "colab": {
          "base_uri": "https://localhost:8080/"
        },
        "outputId": "28a3a01c-0e5e-45ba-c91c-3bdb44fb24f7"
      },
      "source": [
        "r_n = r/n  # interest rate per period\n",
        "totpymts = n*t # total number of payments\n",
        "pymt = npf.pmt(r_n,totpymts,P)  # Calculate Payment per period\n",
        "per = 1 # Payment period to calculate the interest amount\n",
        "ipmt = npf.ipmt(r_n,per,totpymts,P)\n",
        "ppmt = npf.ppmt(r_n,per,totpymts,P)\n",
        "print(f\"Principal of ${P}, {n} payments/year, {postedrate*100}% interest as posted, {t} years amortization, payments are ${-pymt:.2f} per period.\")\n",
        "print(f\"APR in Canada: for a posted rate of {postedrate*100}%, APR = {r*100:.4f}% and the EAR = \")\n",
        "print(f\"For period {per}, the interest payment is ${-ipmt:.2f} and the principal payment is ${-ppmt:.2f}, not counting for additional payments per period of ${Addl_Principal:.2f}\")"
      ],
      "execution_count": null,
      "outputs": [
        {
          "output_type": "stream",
          "text": [
            "Principal of $100000, 12 payments/year, 6.0% interest as posted, 25 years amortization, payments are $639.81 per period.\n",
            "APR in Canada: for a posted rate of 6.0%, APR = 5.9263%\n",
            "For period 1, the interest payment is $493.86 and the principal payment is $145.94, not counting for additional payments per period of $0.00\n"
          ],
          "name": "stdout"
        }
      ]
    },
    {
      "cell_type": "markdown",
      "metadata": {
        "id": "ODGJ6Y6dkSfm"
      },
      "source": [
        "# Build Amortization Table\n",
        "From https://pbpython.com/amortization-model-revised.html"
      ]
    },
    {
      "cell_type": "markdown",
      "metadata": {
        "id": "22hRdO5-kSfm"
      },
      "source": [
        "### Create generator"
      ]
    },
    {
      "cell_type": "code",
      "metadata": {
        "id": "hH0XVMJlkSfm"
      },
      "source": [
        "def amortize(principal, interest_rate, years, pmt, addl_principal=0, annual_payments=12, start_date=date.today()):\n",
        "    \"\"\"Generator to calculate the Amortization table\n",
        "    This can be used to generate the dataframe\n",
        "    \n",
        "    Inputs are:\n",
        "    principal = Principal amount\n",
        "    interest_rate = posted annual interest rate\n",
        "    years = years of amortization, \n",
        "    pmt = payment amount per period\n",
        "    addl_principal = Additional Principal paid per period\n",
        "    annual_payments = annual number of regular payments\n",
        "    start_date = \n",
        "    start date\n",
        "    \n",
        "    Output is Ordered Dictionary of results\n",
        "    \"\"\"\n",
        "        \n",
        "    # initialize the variables to keep track of the periods and running balances\n",
        "    p = 1\n",
        "    beg_balance = principal\n",
        "    end_balance = principal\n",
        "\n",
        "    while end_balance > 0:\n",
        "\n",
        "        # Recalculate the interest based on the current balance\n",
        "        interest = round(((interest_rate/annual_payments) * beg_balance), 2)\n",
        "\n",
        "        # Determine payment based on whether or not this period will pay off the loan\n",
        "        pmt = min(pmt, beg_balance + interest)\n",
        "        principal = pmt - interest\n",
        "\n",
        "        # Ensure additional payment gets adjusted if the loan is being paid off\n",
        "        addl_principal = min(addl_principal, beg_balance - principal)\n",
        "        end_balance = beg_balance - (principal + addl_principal)\n",
        "\n",
        "        yield OrderedDict([('Month',start_date),\n",
        "                           ('Period', p),\n",
        "                           ('BeginBal', beg_balance),\n",
        "                           ('Payment', pmt),\n",
        "                           ('Principal', principal),\n",
        "                           ('Interest', interest),\n",
        "                           ('AddtnlPayment', addl_principal),\n",
        "                           ('EndBal', end_balance)])\n",
        "\n",
        "        # Increment the counter, balance and date\n",
        "        p += 1\n",
        "        start_date += relativedelta(months=1)\n",
        "        beg_balance = end_balance"
      ],
      "execution_count": null,
      "outputs": []
    },
    {
      "cell_type": "markdown",
      "metadata": {
        "id": "HLAWrr4ykSfn"
      },
      "source": [
        "### Create Amortization Table"
      ]
    },
    {
      "cell_type": "code",
      "metadata": {
        "id": "iAskygNXkSfn"
      },
      "source": [
        "def AmortTable(principal, interest_rate, years,\n",
        "                       addl_principal=0, annual_payments=12, start_date=date.today()):\n",
        "    \"\"\"\n",
        "    Calculate the amortization schedule given the loan details as well as summary stats for the loan\n",
        "\n",
        "    :param principal: Amount borrowed\n",
        "    :param interest_rate: The annual interest rate for this loan\n",
        "    :param years: Number of years for the loan\n",
        "    \n",
        "    :param annual_payments (optional): Number of payments in a year. DEfault 12.\n",
        "    :param addl_principal (optional): Additional payments to be made each period. Default 0.\n",
        "    :param start_date (optional): Start date. Default first of next month if none provided\n",
        "\n",
        "    :return: \n",
        "        schedule: Amortization schedule as a pandas dataframe\n",
        "        summary: Pandas dataframe that summarizes the payoff information\n",
        "    \"\"\"\n",
        "    \n",
        "    # Payment stays constant based on the original terms of the loan\n",
        "    payment = -round(npf.pmt(interest_rate/annual_payments, years*annual_payments, principal), 2)\n",
        "    \n",
        "    # Generate the schedule and order the resulting columns for convenience\n",
        "    schedule = pd.DataFrame(amortize(principal, interest_rate, years, payment,\n",
        "                                     addl_principal, annual_payments, start_date))\n",
        "    schedule = schedule[[\"Period\", \"Month\", \"BeginBal\", \"Payment\", \"Principal\", \n",
        "                          \"Interest\", \"AddtnlPayment\", \"EndBal\"]]\n",
        "    \n",
        "    # Convert to a datetime object to make subsequent calcs easier\n",
        "    schedule[\"Month\"] = pd.to_datetime(schedule[\"Month\"])\n",
        "    \n",
        "    #Create a summary statistics table\n",
        "    payoff_date = schedule[\"Month\"].iloc[-1]\n",
        "    posted_rt = 2*((1+interest_rate/12)**6-1)\n",
        "    stats = pd.Series([payoff_date, schedule[\"Period\"].count(), round(interest_rate*100,2),\n",
        "                       round(posted_rt*100,2),years, principal, payment, addl_principal,\n",
        "                       schedule[\"Interest\"].sum()],\n",
        "                       index=[\"Payoff Date\", \"Num Payments\", \"Effective Annual Interest Rate, %\", \n",
        "                              \"Posted Annual Rate, %\",\"Amortization Period, Years\", \"Principal\",\n",
        "                             \"Payment\", \"Additional Payment\", \"Total Interest\"])\n",
        "    \n",
        "    return schedule, stats"
      ],
      "execution_count": null,
      "outputs": []
    },
    {
      "cell_type": "markdown",
      "metadata": {
        "heading_collapsed": "true",
        "id": "3BCR8xQMkSfo"
      },
      "source": [
        "### Get Results"
      ]
    },
    {
      "cell_type": "code",
      "metadata": {
        "id": "39T1DjT2kSfq",
        "colab": {
          "base_uri": "https://localhost:8080/",
          "height": 204
        },
        "outputId": "8851f20b-109c-47cc-9ffd-b05c9d91d948"
      },
      "source": [
        "sch,stats = AmortTable(principal=P,interest_rate=r,years=t,addl_principal=Addl_Principal,annual_payments=n,start_date=startdate)\n",
        "\n",
        "sch.head()\n",
        "#schedule.set_index('Period',inplace=True)"
      ],
      "execution_count": null,
      "outputs": [
        {
          "output_type": "execute_result",
          "data": {
            "text/html": [
              "<div>\n",
              "<style scoped>\n",
              "    .dataframe tbody tr th:only-of-type {\n",
              "        vertical-align: middle;\n",
              "    }\n",
              "\n",
              "    .dataframe tbody tr th {\n",
              "        vertical-align: top;\n",
              "    }\n",
              "\n",
              "    .dataframe thead th {\n",
              "        text-align: right;\n",
              "    }\n",
              "</style>\n",
              "<table border=\"1\" class=\"dataframe\">\n",
              "  <thead>\n",
              "    <tr style=\"text-align: right;\">\n",
              "      <th></th>\n",
              "      <th>Period</th>\n",
              "      <th>Month</th>\n",
              "      <th>BeginBal</th>\n",
              "      <th>Payment</th>\n",
              "      <th>Principal</th>\n",
              "      <th>Interest</th>\n",
              "      <th>AddtnlPayment</th>\n",
              "      <th>EndBal</th>\n",
              "    </tr>\n",
              "  </thead>\n",
              "  <tbody>\n",
              "    <tr>\n",
              "      <th>0</th>\n",
              "      <td>1</td>\n",
              "      <td>2021-01-01</td>\n",
              "      <td>100000.00</td>\n",
              "      <td>581.6</td>\n",
              "      <td>169.21</td>\n",
              "      <td>412.39</td>\n",
              "      <td>0</td>\n",
              "      <td>99830.79</td>\n",
              "    </tr>\n",
              "    <tr>\n",
              "      <th>1</th>\n",
              "      <td>2</td>\n",
              "      <td>2021-02-01</td>\n",
              "      <td>99830.79</td>\n",
              "      <td>581.6</td>\n",
              "      <td>169.91</td>\n",
              "      <td>411.69</td>\n",
              "      <td>0</td>\n",
              "      <td>99660.88</td>\n",
              "    </tr>\n",
              "    <tr>\n",
              "      <th>2</th>\n",
              "      <td>3</td>\n",
              "      <td>2021-03-01</td>\n",
              "      <td>99660.88</td>\n",
              "      <td>581.6</td>\n",
              "      <td>170.61</td>\n",
              "      <td>410.99</td>\n",
              "      <td>0</td>\n",
              "      <td>99490.27</td>\n",
              "    </tr>\n",
              "    <tr>\n",
              "      <th>3</th>\n",
              "      <td>4</td>\n",
              "      <td>2021-04-01</td>\n",
              "      <td>99490.27</td>\n",
              "      <td>581.6</td>\n",
              "      <td>171.31</td>\n",
              "      <td>410.29</td>\n",
              "      <td>0</td>\n",
              "      <td>99318.96</td>\n",
              "    </tr>\n",
              "    <tr>\n",
              "      <th>4</th>\n",
              "      <td>5</td>\n",
              "      <td>2021-05-01</td>\n",
              "      <td>99318.96</td>\n",
              "      <td>581.6</td>\n",
              "      <td>172.02</td>\n",
              "      <td>409.58</td>\n",
              "      <td>0</td>\n",
              "      <td>99146.94</td>\n",
              "    </tr>\n",
              "  </tbody>\n",
              "</table>\n",
              "</div>"
            ],
            "text/plain": [
              "   Period      Month   BeginBal  ...  Interest  AddtnlPayment    EndBal\n",
              "0       1 2021-01-01  100000.00  ...    412.39              0  99830.79\n",
              "1       2 2021-02-01   99830.79  ...    411.69              0  99660.88\n",
              "2       3 2021-03-01   99660.88  ...    410.99              0  99490.27\n",
              "3       4 2021-04-01   99490.27  ...    410.29              0  99318.96\n",
              "4       5 2021-05-01   99318.96  ...    409.58              0  99146.94\n",
              "\n",
              "[5 rows x 8 columns]"
            ]
          },
          "metadata": {
            "tags": []
          },
          "execution_count": 9
        }
      ]
    },
    {
      "cell_type": "code",
      "metadata": {
        "id": "s-aIysDnqnX_",
        "colab": {
          "base_uri": "https://localhost:8080/",
          "height": 204
        },
        "outputId": "a37d9426-d517-4f05-aef1-575da4e2bc0e"
      },
      "source": [
        "sch.tail()"
      ],
      "execution_count": null,
      "outputs": [
        {
          "output_type": "execute_result",
          "data": {
            "text/html": [
              "<div>\n",
              "<style scoped>\n",
              "    .dataframe tbody tr th:only-of-type {\n",
              "        vertical-align: middle;\n",
              "    }\n",
              "\n",
              "    .dataframe tbody tr th {\n",
              "        vertical-align: top;\n",
              "    }\n",
              "\n",
              "    .dataframe thead th {\n",
              "        text-align: right;\n",
              "    }\n",
              "</style>\n",
              "<table border=\"1\" class=\"dataframe\">\n",
              "  <thead>\n",
              "    <tr style=\"text-align: right;\">\n",
              "      <th></th>\n",
              "      <th>Period</th>\n",
              "      <th>Month</th>\n",
              "      <th>BeginBal</th>\n",
              "      <th>Payment</th>\n",
              "      <th>Principal</th>\n",
              "      <th>Interest</th>\n",
              "      <th>AddtnlPayment</th>\n",
              "      <th>EndBal</th>\n",
              "    </tr>\n",
              "  </thead>\n",
              "  <tbody>\n",
              "    <tr>\n",
              "      <th>296</th>\n",
              "      <td>297</td>\n",
              "      <td>2045-09-01</td>\n",
              "      <td>2305.52</td>\n",
              "      <td>581.60</td>\n",
              "      <td>572.09</td>\n",
              "      <td>9.51</td>\n",
              "      <td>0</td>\n",
              "      <td>1733.43</td>\n",
              "    </tr>\n",
              "    <tr>\n",
              "      <th>297</th>\n",
              "      <td>298</td>\n",
              "      <td>2045-10-01</td>\n",
              "      <td>1733.43</td>\n",
              "      <td>581.60</td>\n",
              "      <td>574.45</td>\n",
              "      <td>7.15</td>\n",
              "      <td>0</td>\n",
              "      <td>1158.98</td>\n",
              "    </tr>\n",
              "    <tr>\n",
              "      <th>298</th>\n",
              "      <td>299</td>\n",
              "      <td>2045-11-01</td>\n",
              "      <td>1158.98</td>\n",
              "      <td>581.60</td>\n",
              "      <td>576.82</td>\n",
              "      <td>4.78</td>\n",
              "      <td>0</td>\n",
              "      <td>582.16</td>\n",
              "    </tr>\n",
              "    <tr>\n",
              "      <th>299</th>\n",
              "      <td>300</td>\n",
              "      <td>2045-12-01</td>\n",
              "      <td>582.16</td>\n",
              "      <td>581.60</td>\n",
              "      <td>579.20</td>\n",
              "      <td>2.40</td>\n",
              "      <td>0</td>\n",
              "      <td>2.96</td>\n",
              "    </tr>\n",
              "    <tr>\n",
              "      <th>300</th>\n",
              "      <td>301</td>\n",
              "      <td>2046-01-01</td>\n",
              "      <td>2.96</td>\n",
              "      <td>2.97</td>\n",
              "      <td>2.96</td>\n",
              "      <td>0.01</td>\n",
              "      <td>0</td>\n",
              "      <td>0.00</td>\n",
              "    </tr>\n",
              "  </tbody>\n",
              "</table>\n",
              "</div>"
            ],
            "text/plain": [
              "     Period      Month  BeginBal  ...  Interest  AddtnlPayment   EndBal\n",
              "296     297 2045-09-01   2305.52  ...      9.51              0  1733.43\n",
              "297     298 2045-10-01   1733.43  ...      7.15              0  1158.98\n",
              "298     299 2045-11-01   1158.98  ...      4.78              0   582.16\n",
              "299     300 2045-12-01    582.16  ...      2.40              0     2.96\n",
              "300     301 2046-01-01      2.96  ...      0.01              0     0.00\n",
              "\n",
              "[5 rows x 8 columns]"
            ]
          },
          "metadata": {
            "tags": []
          },
          "execution_count": 10
        }
      ]
    },
    {
      "cell_type": "markdown",
      "metadata": {
        "id": "-1YQeYG1rSR4"
      },
      "source": [
        "The above schedule for 100,000 at 5% amortized over 25 years with $581.60 payments monthly matches the online calculator exactly (see the pdf). So the amortization schedule is being done correctly."
      ]
    },
    {
      "cell_type": "code",
      "metadata": {
        "id": "rbN22x0pkSfq",
        "colab": {
          "base_uri": "https://localhost:8080/"
        },
        "outputId": "e4ec3592-617c-4635-bca4-03906c805b73"
      },
      "source": [
        "stats"
      ],
      "execution_count": null,
      "outputs": [
        {
          "output_type": "execute_result",
          "data": {
            "text/plain": [
              "Payoff Date                          2046-01-01 00:00:00\n",
              "Num Payments                                         301\n",
              "Effective Annual Interest Rate, %                   4.95\n",
              "Posted Annual Rate, %                                  5\n",
              "Amortization Period, Years                            25\n",
              "Principal                                         100000\n",
              "Payment                                            581.6\n",
              "Additional Payment                                     0\n",
              "Total Interest                                     74483\n",
              "dtype: object"
            ]
          },
          "metadata": {
            "tags": []
          },
          "execution_count": 11
        }
      ]
    },
    {
      "cell_type": "markdown",
      "metadata": {
        "id": "f334z-bQkSfr"
      },
      "source": [
        "# Scenarios"
      ]
    },
    {
      "cell_type": "markdown",
      "metadata": {
        "id": "YLfaYQ1QttrW"
      },
      "source": [
        "### 1. First Year of Repayment\n",
        "2021 - no extra payments. Determine principal owing at end of Dec 2021"
      ]
    },
    {
      "cell_type": "code",
      "metadata": {
        "id": "sd3iWvuDtsob"
      },
      "source": [
        "P = 449878.87 # principal at start of 2021\n",
        "postedrate = 0.0194362 # annual interest rate - as quoted\n",
        "r = calc_r(postedrate)\n",
        "t = 25 # amortization period, years\n",
        "n = 12 # number of payments per year\n",
        "startdate = (date(2021,1,1))\n",
        "Addl_Principal = 0 # Additional Principal per period fpr 2021\n",
        "r_n = r/n  # monthly interest rate\n",
        "totpymts = n*t # total number of payments"
      ],
      "execution_count": null,
      "outputs": []
    },
    {
      "cell_type": "code",
      "metadata": {
        "id": "HswfrojVuMdQ",
        "colab": {
          "base_uri": "https://localhost:8080/"
        },
        "outputId": "061b1d1d-2619-48bc-9b44-ce8c8f122891"
      },
      "source": [
        "pymt = npf.pmt(r_n,totpymts,P)  # Calculate Monthly Payment\n",
        "per = 1 # Payment period to calculate the interest amount\n",
        "ipmt = npf.ipmt(r_n,per,totpymts,P)\n",
        "ppmt = npf.ppmt(r_n,per,totpymts,P)\n",
        "print(f\"Principal of ${P}, {n} payments/year, {postedrate*100:.4f}% interest as posted, {t} years amortization, required payments are ${-pymt:.2f} per period.\")\n",
        "print(f\"Effective Interest Rate in Canada: {postedrate*100:.4f}% interest as posted = {r*100:.4f}% effective interest rate\")\n",
        "print(f\"For period {per}, the interest payment is ${-ipmt:.2f} and the principal payment is ${-ppmt:.2f}, not counting for additional payments per period of ${Addl_Principal:.2f}\")"
      ],
      "execution_count": null,
      "outputs": [
        {
          "output_type": "stream",
          "text": [
            "Principal of $449878.87, 12 payments/year, 1.9436% interest as posted, 25 years amortization, required payments are $1892.80 per period.\n",
            "Effective Interest Rate in Canada: 1.9436% interest as posted = 1.9358% effective interest rate\n",
            "For period 1, the interest payment is $725.73 and the principal payment is $1167.07, not counting for additional payments per period of $0.00\n"
          ],
          "name": "stdout"
        }
      ]
    },
    {
      "cell_type": "markdown",
      "metadata": {
        "id": "lEqo3-IIkSfw"
      },
      "source": [
        "### 2. Second Year of Repayment  \n",
        "Assumes:\n",
        "\\$250,000 extra available for the prepayments from settlement of 2836 address;  \n",
        "2021 - no extra payments  \n",
        "2022 - repayment of 15% of original principal in Month 3  \n",
        "2022 - double up all payments for Months 3-12  "
      ]
    },
    {
      "cell_type": "code",
      "metadata": {
        "id": "RBsJmXQ3kSfw",
        "outputId": "f648ea37-1656-4489-b955-67561743f817"
      },
      "source": [
        "Addl_Principal2 = 0.15*P2/12 # additional amount per month\n",
        "print(Addl_Principal2)"
      ],
      "execution_count": null,
      "outputs": [
        {
          "output_type": "stream",
          "text": [
            "5595.8414999999995\n"
          ],
          "name": "stdout"
        }
      ]
    },
    {
      "cell_type": "code",
      "metadata": {
        "id": "FnhEQTackSfw"
      },
      "source": [
        "sch2a,stats2a = AmortTable(principal=P2,interest_rate=r2,years=t2,addl_principal=Addl_Principal2,annual_payments=n2,start_date=startdate2)"
      ],
      "execution_count": null,
      "outputs": []
    },
    {
      "cell_type": "code",
      "metadata": {
        "id": "cnaV7gbHkSfw",
        "outputId": "5f88d443-ad9e-4aec-bdfb-1b8697022a17"
      },
      "source": [
        "sch2a.head()"
      ],
      "execution_count": null,
      "outputs": [
        {
          "output_type": "execute_result",
          "data": {
            "text/html": [
              "<div>\n",
              "<style scoped>\n",
              "    .dataframe tbody tr th:only-of-type {\n",
              "        vertical-align: middle;\n",
              "    }\n",
              "\n",
              "    .dataframe tbody tr th {\n",
              "        vertical-align: top;\n",
              "    }\n",
              "\n",
              "    .dataframe thead th {\n",
              "        text-align: right;\n",
              "    }\n",
              "</style>\n",
              "<table border=\"1\" class=\"dataframe\">\n",
              "  <thead>\n",
              "    <tr style=\"text-align: right;\">\n",
              "      <th></th>\n",
              "      <th>Period</th>\n",
              "      <th>Month</th>\n",
              "      <th>BeginBal</th>\n",
              "      <th>Payment</th>\n",
              "      <th>Principal</th>\n",
              "      <th>Interest</th>\n",
              "      <th>AddtnlPayment</th>\n",
              "      <th>EndBal</th>\n",
              "    </tr>\n",
              "  </thead>\n",
              "  <tbody>\n",
              "    <tr>\n",
              "      <th>0</th>\n",
              "      <td>1</td>\n",
              "      <td>2021-02-21</td>\n",
              "      <td>447667.3200</td>\n",
              "      <td>1839.96</td>\n",
              "      <td>1193.18</td>\n",
              "      <td>646.78</td>\n",
              "      <td>5595.8415</td>\n",
              "      <td>440878.2985</td>\n",
              "    </tr>\n",
              "    <tr>\n",
              "      <th>1</th>\n",
              "      <td>2</td>\n",
              "      <td>2021-03-21</td>\n",
              "      <td>440878.2985</td>\n",
              "      <td>1839.96</td>\n",
              "      <td>1202.99</td>\n",
              "      <td>636.97</td>\n",
              "      <td>5595.8415</td>\n",
              "      <td>434079.4670</td>\n",
              "    </tr>\n",
              "    <tr>\n",
              "      <th>2</th>\n",
              "      <td>3</td>\n",
              "      <td>2021-04-21</td>\n",
              "      <td>434079.4670</td>\n",
              "      <td>1839.96</td>\n",
              "      <td>1212.81</td>\n",
              "      <td>627.15</td>\n",
              "      <td>5595.8415</td>\n",
              "      <td>427270.8155</td>\n",
              "    </tr>\n",
              "    <tr>\n",
              "      <th>3</th>\n",
              "      <td>4</td>\n",
              "      <td>2021-05-21</td>\n",
              "      <td>427270.8155</td>\n",
              "      <td>1839.96</td>\n",
              "      <td>1222.65</td>\n",
              "      <td>617.31</td>\n",
              "      <td>5595.8415</td>\n",
              "      <td>420452.3240</td>\n",
              "    </tr>\n",
              "    <tr>\n",
              "      <th>4</th>\n",
              "      <td>5</td>\n",
              "      <td>2021-06-21</td>\n",
              "      <td>420452.3240</td>\n",
              "      <td>1839.96</td>\n",
              "      <td>1232.50</td>\n",
              "      <td>607.46</td>\n",
              "      <td>5595.8415</td>\n",
              "      <td>413623.9825</td>\n",
              "    </tr>\n",
              "  </tbody>\n",
              "</table>\n",
              "</div>"
            ],
            "text/plain": [
              "   Period      Month     BeginBal  Payment  Principal  Interest  \\\n",
              "0       1 2021-02-21  447667.3200  1839.96    1193.18    646.78   \n",
              "1       2 2021-03-21  440878.2985  1839.96    1202.99    636.97   \n",
              "2       3 2021-04-21  434079.4670  1839.96    1212.81    627.15   \n",
              "3       4 2021-05-21  427270.8155  1839.96    1222.65    617.31   \n",
              "4       5 2021-06-21  420452.3240  1839.96    1232.50    607.46   \n",
              "\n",
              "   AddtnlPayment       EndBal  \n",
              "0      5595.8415  440878.2985  \n",
              "1      5595.8415  434079.4670  \n",
              "2      5595.8415  427270.8155  \n",
              "3      5595.8415  420452.3240  \n",
              "4      5595.8415  413623.9825  "
            ]
          },
          "metadata": {
            "tags": []
          },
          "execution_count": 46
        }
      ]
    },
    {
      "cell_type": "code",
      "metadata": {
        "id": "wEmScx4wkSfx",
        "outputId": "984ff614-55c3-4731-d605-2b0fbb0d9503"
      },
      "source": [
        "stats2a"
      ],
      "execution_count": null,
      "outputs": [
        {
          "output_type": "execute_result",
          "data": {
            "text/plain": [
              "Payoff Date                          2026-05-21 00:00:00\n",
              "Num Payments                                          64\n",
              "Effective Annual Interest Rate, %                   1.73\n",
              "Posted Annual Rate, %                               1.74\n",
              "Amortization Period, Years                            25\n",
              "Principal                                         447667\n",
              "Payment                                          1839.96\n",
              "Additional Payment                               5595.84\n",
              "Total Interest                                     21016\n",
              "dtype: object"
            ]
          },
          "metadata": {
            "tags": []
          },
          "execution_count": 47
        }
      ]
    }
  ]
}